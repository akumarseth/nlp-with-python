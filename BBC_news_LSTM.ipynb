{
 "cells": [
  {
   "cell_type": "code",
   "execution_count": 1,
   "source": [
    "import tensorflow as tf\r\n",
    "print(tf.__version__)"
   ],
   "outputs": [
    {
     "output_type": "stream",
     "name": "stdout",
     "text": [
      "2.6.0\n"
     ]
    }
   ],
   "metadata": {}
  },
  {
   "cell_type": "code",
   "execution_count": 3,
   "source": [
    "\r\n",
    "import csv\r\n",
    "import tensorflow as tf\r\n",
    "import numpy as np\r\n",
    "from tensorflow.keras.preprocessing.text import Tokenizer\r\n",
    "from tensorflow.keras.preprocessing.sequence import pad_sequences\r\n",
    "from spacy.lang.en.stop_words import STOP_WORDS"
   ],
   "outputs": [],
   "metadata": {}
  },
  {
   "cell_type": "markdown",
   "source": [
    "##### Put the hyparameters at the top like this to make it easier to change and edit."
   ],
   "metadata": {}
  },
  {
   "cell_type": "code",
   "execution_count": 4,
   "source": [
    "vocab_size = 5000\r\n",
    "embedding_dim = 64\r\n",
    "max_length = 200\r\n",
    "trunc_type = 'post'\r\n",
    "padding_type = 'post'\r\n",
    "oov_tok = '<OOV>'\r\n",
    "training_portion = .8"
   ],
   "outputs": [],
   "metadata": {}
  },
  {
   "cell_type": "markdown",
   "source": [
    "#### First, let's define two lists that containing articles and labels. In the meantime, we remove stopwords."
   ],
   "metadata": {}
  },
  {
   "cell_type": "code",
   "execution_count": 7,
   "source": [
    "articles = []\r\n",
    "labels = []\r\n",
    "\r\n",
    "with open(\"data/bbc-news.csv\", 'r') as csvfile:\r\n",
    "    reader = csv.reader(csvfile, delimiter=',')\r\n",
    "    next(reader)\r\n",
    "    for row in reader:\r\n",
    "        labels.append(row[0])\r\n",
    "        article = row[1]\r\n",
    "        for word in STOP_WORDS:\r\n",
    "            token = ' ' + word + ' '\r\n",
    "            article = article.replace(token, ' ')\r\n",
    "            article = article.replace(' ', ' ')\r\n",
    "        articles.append(article)\r\n",
    "print(len(labels))\r\n",
    "print(len(articles))"
   ],
   "outputs": [
    {
     "output_type": "stream",
     "name": "stdout",
     "text": [
      "2225\n",
      "2225\n"
     ]
    }
   ],
   "metadata": {}
  },
  {
   "cell_type": "markdown",
   "source": [
    "#### There are only 2,225 articles in the data. Then we split into training set and validation set, according to the parameter we set earlier, 80% for training, 20% for validation."
   ],
   "metadata": {}
  },
  {
   "cell_type": "code",
   "execution_count": 8,
   "source": [
    "train_size = int(len(articles) * training_portion)\r\n",
    "\r\n",
    "train_articles = articles[0: train_size]\r\n",
    "train_labels = labels[0: train_size]\r\n",
    "\r\n",
    "validation_articles = articles[train_size:]\r\n",
    "validation_labels = labels[train_size:]\r\n",
    "\r\n",
    "print(train_size)\r\n",
    "print(len(train_articles))\r\n",
    "print(len(train_labels))\r\n",
    "print(len(validation_articles))\r\n",
    "print(len(validation_labels))"
   ],
   "outputs": [
    {
     "output_type": "stream",
     "name": "stdout",
     "text": [
      "1780\n",
      "1780\n",
      "1780\n",
      "445\n",
      "445\n"
     ]
    }
   ],
   "metadata": {}
  },
  {
   "cell_type": "markdown",
   "source": [
    "Tokenizer does all the heavy lifting for us. In our articles that it was tokenizing, it will take 5,000 most common words. oov_token is to put a special value in when an unseen word is encountered. This means I want \"OOV\" in bracket to be used to for words that are not in the word index. \"fit_on_text\" will go through all the text and create dictionary like this:"
   ],
   "metadata": {}
  },
  {
   "cell_type": "code",
   "execution_count": 9,
   "source": [
    "tokenizer = Tokenizer(num_words = vocab_size, oov_token=oov_tok)\r\n",
    "tokenizer.fit_on_texts(train_articles)\r\n",
    "word_index = tokenizer.word_index"
   ],
   "outputs": [],
   "metadata": {}
  },
  {
   "cell_type": "markdown",
   "source": [
    "You can see that \"OOV\" in bracket is number 1, \"said\" is number 2, \"mr\" is number 3, and so on."
   ],
   "metadata": {}
  },
  {
   "cell_type": "code",
   "execution_count": 10,
   "source": [
    "dict(list(word_index.items())[0:10])"
   ],
   "outputs": [
    {
     "output_type": "execute_result",
     "data": {
      "text/plain": [
       "{'<OOV>': 1,\n",
       " 's': 2,\n",
       " 'said': 3,\n",
       " 'mr': 4,\n",
       " 'year': 5,\n",
       " 'people': 6,\n",
       " 'new': 7,\n",
       " 't': 8,\n",
       " 'time': 9,\n",
       " 'government': 10}"
      ]
     },
     "metadata": {},
     "execution_count": 10
    }
   ],
   "metadata": {}
  },
  {
   "cell_type": "markdown",
   "source": [
    "This process cleans up our text, lowercase, and remove punctuations.\r\n",
    "\r\n",
    "After tokenization, the next step is to turn thoes tokens into lists of sequence."
   ],
   "metadata": {}
  },
  {
   "cell_type": "code",
   "execution_count": 11,
   "source": [
    "train_sequences = tokenizer.texts_to_sequences(train_articles)"
   ],
   "outputs": [],
   "metadata": {}
  },
  {
   "cell_type": "markdown",
   "source": [
    "This is the 11th article in the training data that has been turned into sequences."
   ],
   "metadata": {}
  },
  {
   "cell_type": "code",
   "execution_count": 12,
   "source": [
    "print(train_sequences[10])"
   ],
   "outputs": [
    {
     "output_type": "stream",
     "name": "stdout",
     "text": [
      "[2354, 1, 185, 4923, 15, 577, 523, 185, 4923, 1, 1, 1580, 1, 1, 2354, 15, 503, 1, 1, 109, 234, 1, 109, 234, 723, 750, 596, 2229, 1, 1063, 1612, 1, 1639, 4924, 1, 1, 1, 1, 1, 4666, 1, 1, 91, 4443, 1, 3, 2795, 1423, 4667, 1, 36, 2091, 3884, 26, 15, 3715, 1, 1, 1, 1, 2, 480, 1, 1, 1, 762, 567, 2, 2287, 297, 4668, 1, 15, 1, 715, 2288, 1, 4228, 107, 1, 2, 3583, 614, 3449, 1, 15, 1, 358, 750, 596, 1, 64, 569, 1, 185, 4923, 1, 535, 1, 1612, 941, 1, 4925, 734, 1784, 87, 1, 1, 1, 2, 2895, 15, 1, 234, 1, 2, 1526, 4926, 480, 434, 1, 1364, 4669, 706, 1240, 1, 1780, 577, 274, 1, 419, 503, 256, 1424, 15, 420, 1, 2, 1, 1584, 1, 724, 1, 2987, 1, 1284, 1, 2354, 503, 15, 2892, 4663, 1, 1, 1, 1, 1, 776, 24, 1745, 608, 252, 17, 901, 1, 808, 15, 309, 15, 256, 1424, 1262, 320, 14, 42, 809, 1015, 4229, 206]\n"
     ]
    }
   ],
   "metadata": {}
  },
  {
   "cell_type": "markdown",
   "source": [
    "When we train neural networks for NLP, we need sequences to be in the same size, that's why we use padding. Our max_length is 200, so we use pad_sequences to make all of our articles the same length which is 200 in my example. That's why you see that the 1st article was 426 in length, becomes 200, the 2nd article was 192 in length, becomes 200, and so on"
   ],
   "metadata": {}
  },
  {
   "cell_type": "code",
   "execution_count": 13,
   "source": [
    "train_padded = pad_sequences(train_sequences, maxlen=max_length, padding=padding_type, truncating=trunc_type)"
   ],
   "outputs": [],
   "metadata": {}
  },
  {
   "cell_type": "code",
   "execution_count": 14,
   "source": [
    "print(len(train_sequences[0]))\r\n",
    "print(len(train_padded[0]))\r\n",
    "\r\n",
    "print(len(train_sequences[1]))\r\n",
    "print(len(train_padded[1]))\r\n",
    "\r\n",
    "print(len(train_sequences[10]))\r\n",
    "print(len(train_padded[10]))"
   ],
   "outputs": [
    {
     "output_type": "stream",
     "name": "stdout",
     "text": [
      "389\n",
      "200\n",
      "178\n",
      "200\n",
      "179\n",
      "200\n"
     ]
    }
   ],
   "metadata": {}
  },
  {
   "cell_type": "markdown",
   "source": [
    "In addtion, there is padding type and truncating type, there are all \"post\". Means for example, for the 11th article, it was 186 in length, we padded to 200, and we padded at the end, add 14 zeros."
   ],
   "metadata": {}
  },
  {
   "cell_type": "code",
   "execution_count": 15,
   "source": [
    "print(train_sequences[10])"
   ],
   "outputs": [
    {
     "output_type": "stream",
     "name": "stdout",
     "text": [
      "[2354, 1, 185, 4923, 15, 577, 523, 185, 4923, 1, 1, 1580, 1, 1, 2354, 15, 503, 1, 1, 109, 234, 1, 109, 234, 723, 750, 596, 2229, 1, 1063, 1612, 1, 1639, 4924, 1, 1, 1, 1, 1, 4666, 1, 1, 91, 4443, 1, 3, 2795, 1423, 4667, 1, 36, 2091, 3884, 26, 15, 3715, 1, 1, 1, 1, 2, 480, 1, 1, 1, 762, 567, 2, 2287, 297, 4668, 1, 15, 1, 715, 2288, 1, 4228, 107, 1, 2, 3583, 614, 3449, 1, 15, 1, 358, 750, 596, 1, 64, 569, 1, 185, 4923, 1, 535, 1, 1612, 941, 1, 4925, 734, 1784, 87, 1, 1, 1, 2, 2895, 15, 1, 234, 1, 2, 1526, 4926, 480, 434, 1, 1364, 4669, 706, 1240, 1, 1780, 577, 274, 1, 419, 503, 256, 1424, 15, 420, 1, 2, 1, 1584, 1, 724, 1, 2987, 1, 1284, 1, 2354, 503, 15, 2892, 4663, 1, 1, 1, 1, 1, 776, 24, 1745, 608, 252, 17, 901, 1, 808, 15, 309, 15, 256, 1424, 1262, 320, 14, 42, 809, 1015, 4229, 206]\n"
     ]
    }
   ],
   "metadata": {}
  },
  {
   "cell_type": "code",
   "execution_count": 16,
   "source": [
    "print(train_padded[10])"
   ],
   "outputs": [
    {
     "output_type": "stream",
     "name": "stdout",
     "text": [
      "[2354    1  185 4923   15  577  523  185 4923    1    1 1580    1    1\n",
      " 2354   15  503    1    1  109  234    1  109  234  723  750  596 2229\n",
      "    1 1063 1612    1 1639 4924    1    1    1    1    1 4666    1    1\n",
      "   91 4443    1    3 2795 1423 4667    1   36 2091 3884   26   15 3715\n",
      "    1    1    1    1    2  480    1    1    1  762  567    2 2287  297\n",
      " 4668    1   15    1  715 2288    1 4228  107    1    2 3583  614 3449\n",
      "    1   15    1  358  750  596    1   64  569    1  185 4923    1  535\n",
      "    1 1612  941    1 4925  734 1784   87    1    1    1    2 2895   15\n",
      "    1  234    1    2 1526 4926  480  434    1 1364 4669  706 1240    1\n",
      " 1780  577  274    1  419  503  256 1424   15  420    1    2    1 1584\n",
      "    1  724    1 2987    1 1284    1 2354  503   15 2892 4663    1    1\n",
      "    1    1    1  776   24 1745  608  252   17  901    1  808   15  309\n",
      "   15  256 1424 1262  320   14   42  809 1015 4229  206    0    0    0\n",
      "    0    0    0    0    0    0    0    0    0    0    0    0    0    0\n",
      "    0    0    0    0]\n"
     ]
    }
   ],
   "metadata": {}
  },
  {
   "cell_type": "markdown",
   "source": [
    "And for the 1st article, it was 426 in length, we truncated to 200, and we truncated at the end."
   ],
   "metadata": {}
  },
  {
   "cell_type": "code",
   "execution_count": 20,
   "source": [
    "print(train_sequences[0])"
   ],
   "outputs": [
    {
     "output_type": "stream",
     "name": "stdout",
     "text": [
      "[65, 124, 1060, 1025, 33, 901, 684, 1, 63, 1223, 4215, 98, 138, 3573, 1134, 1114, 1495, 27, 6, 819, 65, 1, 287, 14, 9, 99, 3183, 1135, 2344, 507, 394, 1296, 3298, 3439, 1578, 7, 845, 661, 771, 1, 534, 1496, 1026, 339, 1862, 1025, 33, 475, 1319, 1933, 1541, 103, 208, 83, 2276, 4907, 902, 520, 3879, 3880, 845, 2484, 98, 295, 138, 3573, 1, 1, 24, 1497, 2789, 19, 2, 4651, 12, 2, 1224, 105, 360, 6, 112, 1342, 49, 4431, 378, 4908, 65, 1026, 54, 1, 58, 1934, 1, 65, 928, 545, 63, 1223, 65, 1886, 100, 106, 364, 2790, 118, 1153, 63, 1223, 4652, 6, 378, 4908, 3075, 2414, 1, 374, 1045, 1, 1343, 1091, 1822, 1, 694, 475, 1319, 1933, 103, 1989, 344, 772, 1887, 1519, 150, 1635, 2791, 1, 1, 2345, 2545, 58, 662, 1092, 1115, 118, 652, 527, 1, 93, 19, 1224, 1608, 375, 85, 14, 9, 12, 3076, 1, 23, 1402, 2, 1, 16, 23, 61, 288, 2277, 23, 409, 214, 1887, 1278, 2638, 1, 254, 662, 1093, 12, 2792, 1635, 1, 250, 1, 993, 339, 1935, 374, 1935, 3, 1279, 1, 1635, 2085, 47, 1, 1, 1636, 208, 1579, 2979, 1094, 339, 26, 804, 1297, 205, 2715, 296, 485, 344, 3, 1, 1, 589, 1280, 165, 65, 3881, 65, 64, 27, 6, 275, 339, 54, 819, 1, 65, 1025, 344, 475, 772, 2345, 1, 916, 2, 452, 424, 1990, 124, 508, 1, 97, 6, 275, 54, 819, 1136, 1045, 1382, 37, 2134, 1137, 672, 215, 231, 939, 49, 559, 2346, 1135, 2278, 1637, 1, 3703, 3440, 1, 1045, 1935, 140, 317, 54, 485, 1060, 4, 1, 967, 66, 2883, 1, 2546, 1, 383, 395, 3, 4, 1, 2793, 394, 1344, 28, 54, 372, 20, 7, 939, 845, 1, 2484, 1, 65, 1609, 805, 63, 1223, 65, 1886, 7, 1542, 1, 1, 4216, 1498, 4215, 590, 1, 3704, 928, 508, 4217, 2789, 806, 590, 1, 2, 1180, 1, 1, 65, 1471, 857, 4651, 1, 513, 4032, 2, 196, 1933, 65, 103, 1, 590, 3184, 1, 457, 606, 2547, 3704, 4909, 3299, 424, 4653, 24, 4431, 1, 65, 1667, 606, 226, 86, 200, 2548, 303, 580, 1138, 4033, 685, 3574, 4651, 114, 1, 344, 6, 49, 1668, 1026, 695, 835, 88, 520, 3300, 1236, 1496, 1, 1520, 6, 819, 54, 54]\n"
     ]
    }
   ],
   "metadata": {}
  },
  {
   "cell_type": "code",
   "execution_count": 18,
   "source": [
    "print(train_padded[0])"
   ],
   "outputs": [
    {
     "output_type": "stream",
     "name": "stdout",
     "text": [
      "[  65  124 1060 1025   33  901  684    1   63 1223 4215   98  138 3573\n",
      " 1134 1114 1495   27    6  819   65    1  287   14    9   99 3183 1135\n",
      " 2344  507  394 1296 3298 3439 1578    7  845  661  771    1  534 1496\n",
      " 1026  339 1862 1025   33  475 1319 1933 1541  103  208   83 2276 4907\n",
      "  902  520 3879 3880  845 2484   98  295  138 3573    1    1   24 1497\n",
      " 2789   19    2 4651   12    2 1224  105  360    6  112 1342   49 4431\n",
      "  378 4908   65 1026   54    1   58 1934    1   65  928  545   63 1223\n",
      "   65 1886  100  106  364 2790  118 1153   63 1223 4652    6  378 4908\n",
      " 3075 2414    1  374 1045    1 1343 1091 1822    1  694  475 1319 1933\n",
      "  103 1989  344  772 1887 1519  150 1635 2791    1    1 2345 2545   58\n",
      "  662 1092 1115  118  652  527    1   93   19 1224 1608  375   85   14\n",
      "    9   12 3076    1   23 1402    2    1   16   23   61  288 2277   23\n",
      "  409  214 1887 1278 2638    1  254  662 1093   12 2792 1635    1  250\n",
      "    1  993  339 1935  374 1935    3 1279    1 1635 2085   47    1    1\n",
      " 1636  208 1579 2979]\n"
     ]
    }
   ],
   "metadata": {}
  },
  {
   "cell_type": "markdown",
   "source": [
    "Then we do the same for the validation sequences. Note that we should expect more out of vocabulary words from validation articles because word index were derived from the training articles."
   ],
   "metadata": {}
  },
  {
   "cell_type": "code",
   "execution_count": 21,
   "source": [
    "validation_sequences = tokenizer.texts_to_sequences(validation_articles)\r\n",
    "validation_padded = pad_sequences(validation_sequences, maxlen=max_length, padding=padding_type, truncating=trunc_type)\r\n",
    "\r\n",
    "print(len(validation_sequences))\r\n",
    "print(validation_padded.shape)"
   ],
   "outputs": [
    {
     "output_type": "stream",
     "name": "stdout",
     "text": [
      "445\n",
      "(445, 200)\n"
     ]
    }
   ],
   "metadata": {}
  },
  {
   "cell_type": "markdown",
   "source": [
    "Now we are going to look at the labels. because our labels are text, so we will tokenize them, when training, labels are expected to be numpy arrays. So we will turn list of labels into numpy arrays like so:"
   ],
   "metadata": {}
  },
  {
   "cell_type": "code",
   "execution_count": 22,
   "source": [
    "print(set(labels))"
   ],
   "outputs": [
    {
     "output_type": "stream",
     "name": "stdout",
     "text": [
      "{'tech', 'politics', 'sport', 'entertainment', 'business'}\n"
     ]
    }
   ],
   "metadata": {}
  },
  {
   "cell_type": "code",
   "execution_count": 23,
   "source": [
    "label_tokenizer = Tokenizer()\r\n",
    "label_tokenizer.fit_on_texts(labels)\r\n",
    "\r\n",
    "training_label_seq = np.array(label_tokenizer.texts_to_sequences(train_labels))\r\n",
    "validation_label_seq = np.array(label_tokenizer.texts_to_sequences(validation_labels))"
   ],
   "outputs": [],
   "metadata": {}
  },
  {
   "cell_type": "code",
   "execution_count": 24,
   "source": [
    "print(training_label_seq[0])\r\n",
    "print(training_label_seq[1])\r\n",
    "print(training_label_seq[2])\r\n",
    "print(training_label_seq.shape)\r\n",
    "\r\n",
    "print(validation_label_seq[0])\r\n",
    "print(validation_label_seq[1])\r\n",
    "print(validation_label_seq[2])\r\n",
    "print(validation_label_seq.shape)"
   ],
   "outputs": [
    {
     "output_type": "stream",
     "name": "stdout",
     "text": [
      "[4]\n",
      "[2]\n",
      "[1]\n",
      "(1780, 1)\n",
      "[5]\n",
      "[4]\n",
      "[3]\n",
      "(445, 1)\n"
     ]
    }
   ],
   "metadata": {}
  },
  {
   "cell_type": "markdown",
   "source": [
    "Before training deep neural network, we want to explore what our original article and article after padding look like. Running the following code, we explore the 11th article, we can see that some words become \"OOV\", because they did not make to the top 5,000."
   ],
   "metadata": {}
  },
  {
   "cell_type": "code",
   "execution_count": 25,
   "source": [
    "reverse_word_index = dict([(value, key) for (key, value) in word_index.items()])\r\n",
    "\r\n",
    "def decode_article(text):\r\n",
    "    return ' '.join([reverse_word_index.get(i, '?') for i in text])\r\n",
    "print(decode_article(train_padded[10]))\r\n",
    "print('---')\r\n",
    "print(train_articles[10])"
   ],
   "outputs": [
    {
     "output_type": "stream",
     "name": "stdout",
     "text": [
      "berlin <OOV> anti nazi film german movie anti nazi <OOV> <OOV> drawn <OOV> <OOV> berlin film festival <OOV> <OOV> final days <OOV> final days member white rose movement <OOV> 21 arrested <OOV> brother hans <OOV> <OOV> <OOV> <OOV> <OOV> tyranny <OOV> <OOV> director marc <OOV> said feeling responsibility legacy <OOV> going ideas alive added film drew <OOV> <OOV> <OOV> <OOV> s trial <OOV> <OOV> <OOV> east germany s secret police discovery <OOV> film <OOV> worked closely <OOV> relatives including <OOV> s sisters ensure historical <OOV> film <OOV> members white rose <OOV> group started <OOV> anti nazi <OOV> summer <OOV> arrested dropped <OOV> munich university calling day <OOV> <OOV> <OOV> s regime film <OOV> days <OOV> s arrest intense trial saw <OOV> initially deny charges ended <OOV> appearance german films <OOV> prize festival south african film version <OOV> s <OOV> opera <OOV> shot <OOV> town <OOV> language <OOV> berlin festival film entitled u <OOV> <OOV> <OOV> <OOV> <OOV> story set performed 40 strong music theatre <OOV> debut film performance film south african feature 25 years second nominated golden bear award ? ? ? ? ? ? ? ? ? ? ? ? ? ? ? ? ? ? ? ? ?\n",
      "---\n",
      "berlin cheers anti-nazi film german movie anti-nazi resistance heroine drawn loud applause berlin film festival.  sophie scholl - final days portrays final days member white rose movement. scholl  21  arrested beheaded brother  hans  1943 distributing leaflets condemning  abhorrent tyranny  adolf hitler. director marc rothemund said:  feeling responsibility legacy scholls going.   ideas alive   added.  film drew transcripts gestapo interrogations scholl s trial preserved archive communist east germany s secret police. discovery inspiration film rothemund  worked closely surviving relatives  including scholl s sisters  ensure historical accuracy film. scholl members white rose resistance group started distributing anti-nazi leaflets summer 1942. arrested dropped leaflets munich university calling  day reckoning  adolf hitler s regime. film focuses days scholl s arrest intense trial saw scholl initially deny charges ended defiant appearance. german films vying prize festival.  south african film version bizet s tragic opera carmen shot cape town xhosa language premiered berlin festival. film entitled u-carmen ekhayelitsha carmen khayelitsha township story set. performed 40-strong music theatre troupe debut film performance. film south african feature 25 years second nominated golden bear award.\n"
     ]
    }
   ],
   "metadata": {}
  },
  {
   "cell_type": "markdown",
   "source": [
    "## Now we can implement LSTM. Here is my code that I build a tf.keras.Sequential model and start with an embedding layer. An embedding layer stores one vector per word. When called, it converts the sequences of word indices into sequences of vectors. After training, words with similar meanings often have the similar vectors.\r\n",
    "\r\n",
    "## Next is how to implement LSTM in code. The Bidirectional wrapper is used with a LSTM layer, this propagates the input forwards and backwards through the LSTM layer and then concatenates the outputs. This helps LSTM to learn long term dependencies. We then fit it to a dense neural network to do classification.\r\n",
    "\r\n",
    "## This index-lookup is much more efficient than the equivalent operation of passing a one-hot encoded vector through a tf.keras.layers.Dense layer."
   ],
   "metadata": {}
  },
  {
   "cell_type": "code",
   "execution_count": 26,
   "source": [
    "model = tf.keras.Sequential([\r\n",
    "    # Add an Embedding layer expecting input vocab of size 5000, and output embedding dimension of size 64 we set at the top\r\n",
    "    tf.keras.layers.Embedding(vocab_size, embedding_dim),\r\n",
    "    tf.keras.layers.Bidirectional(tf.keras.layers.LSTM(embedding_dim)),\r\n",
    "#    tf.keras.layers.Bidirectional(tf.keras.layers.LSTM(32)),\r\n",
    "    # use ReLU in place of tanh function since they are very good alternatives of each other.\r\n",
    "    tf.keras.layers.Dense(embedding_dim, activation='relu'),\r\n",
    "    # Add a Dense layer with 6 units and softmax activation.\r\n",
    "    # When we have multiple outputs, softmax convert outputs layers into a probability distribution.\r\n",
    "    tf.keras.layers.Dense(6, activation='softmax')\r\n",
    "])\r\n",
    "model.summary()"
   ],
   "outputs": [
    {
     "output_type": "stream",
     "name": "stdout",
     "text": [
      "Model: \"sequential\"\n",
      "_________________________________________________________________\n",
      "Layer (type)                 Output Shape              Param #   \n",
      "=================================================================\n",
      "embedding (Embedding)        (None, None, 64)          320000    \n",
      "_________________________________________________________________\n",
      "bidirectional (Bidirectional (None, 128)               66048     \n",
      "_________________________________________________________________\n",
      "dense (Dense)                (None, 64)                8256      \n",
      "_________________________________________________________________\n",
      "dense_1 (Dense)              (None, 6)                 390       \n",
      "=================================================================\n",
      "Total params: 394,694\n",
      "Trainable params: 394,694\n",
      "Non-trainable params: 0\n",
      "_________________________________________________________________\n"
     ]
    }
   ],
   "metadata": {}
  },
  {
   "cell_type": "markdown",
   "source": [
    "In our model summay, we have our embeddings, our Bidirectional contains LSTM, followed by two dense layers. The output from Bidirectional is 128, because it doubled what we put in LSTM. We can also stack LSTM layer but I found the results worse."
   ],
   "metadata": {}
  },
  {
   "cell_type": "code",
   "execution_count": 27,
   "source": [
    "model.compile(loss='sparse_categorical_crossentropy', optimizer='adam', metrics=['accuracy'])"
   ],
   "outputs": [],
   "metadata": {}
  },
  {
   "cell_type": "code",
   "execution_count": 28,
   "source": [
    "num_epochs = 10\r\n",
    "history = model.fit(train_padded, training_label_seq, epochs=num_epochs, \\\r\n",
    "    validation_data=(validation_padded, validation_label_seq), verbose=2)"
   ],
   "outputs": [
    {
     "output_type": "stream",
     "name": "stdout",
     "text": [
      "Epoch 1/10\n",
      "56/56 - 8s - loss: 1.5750 - accuracy: 0.3056 - val_loss: 1.4419 - val_accuracy: 0.4135\n",
      "Epoch 2/10\n",
      "56/56 - 5s - loss: 1.0409 - accuracy: 0.5674 - val_loss: 0.6995 - val_accuracy: 0.7506\n",
      "Epoch 3/10\n",
      "56/56 - 5s - loss: 0.3559 - accuracy: 0.8871 - val_loss: 0.3105 - val_accuracy: 0.8921\n",
      "Epoch 4/10\n",
      "56/56 - 5s - loss: 0.0817 - accuracy: 0.9815 - val_loss: 0.2387 - val_accuracy: 0.9169\n",
      "Epoch 5/10\n",
      "56/56 - 5s - loss: 0.0437 - accuracy: 0.9888 - val_loss: 0.2396 - val_accuracy: 0.9191\n",
      "Epoch 6/10\n",
      "56/56 - 6s - loss: 0.0153 - accuracy: 0.9989 - val_loss: 0.1961 - val_accuracy: 0.9438\n",
      "Epoch 7/10\n",
      "56/56 - 6s - loss: 0.0071 - accuracy: 0.9994 - val_loss: 0.2079 - val_accuracy: 0.9416\n",
      "Epoch 8/10\n",
      "56/56 - 6s - loss: 0.0029 - accuracy: 1.0000 - val_loss: 0.2491 - val_accuracy: 0.9326\n",
      "Epoch 9/10\n",
      "56/56 - 7s - loss: 0.0020 - accuracy: 1.0000 - val_loss: 0.2158 - val_accuracy: 0.9438\n",
      "Epoch 10/10\n",
      "56/56 - 7s - loss: 0.0012 - accuracy: 1.0000 - val_loss: 0.2284 - val_accuracy: 0.9438\n"
     ]
    }
   ],
   "metadata": {}
  },
  {
   "cell_type": "code",
   "execution_count": 29,
   "source": [
    "import matplotlib.pyplot as plt\r\n",
    "\r\n",
    "def plot_graphs(history, string):\r\n",
    "  plt.plot(history.history[string])\r\n",
    "  plt.plot(history.history['val_'+string])\r\n",
    "  plt.xlabel(\"Epochs\")\r\n",
    "  plt.ylabel(string)\r\n",
    "  plt.legend([string, 'val_'+string])\r\n",
    "  plt.show()\r\n",
    "  \r\n",
    "plot_graphs(history, \"accuracy\")\r\n",
    "plot_graphs(history, \"loss\")"
   ],
   "outputs": [
    {
     "output_type": "display_data",
     "data": {
      "image/png": "[encoded data removed]",
      "text/plain": [
       "<Figure size 432x288 with 1 Axes>"
      ]
     },
     "metadata": {
      "needs_background": "light"
     }
    },
    {
     "output_type": "display_data",
     "data": {
      "image/png": "[encoded data removed]",
      "text/plain": [
       "<Figure size 432x288 with 1 Axes>"
      ]
     },
     "metadata": {
      "needs_background": "light"
     }
    }
   ],
   "metadata": {}
  },
  {
   "cell_type": "code",
   "execution_count": 30,
   "source": [
    "txt = [\"A WeWork shareholder has taken the company to court over the near-$1.7bn (£1.3bn) leaving package approved for ousted co-founder Adam Neumann.\"]\r\n",
    "seq = tokenizer.texts_to_sequences(txt)\r\n",
    "padded = pad_sequences(seq, maxlen=max_length)\r\n",
    "pred = model.predict(padded)\r\n",
    "labels = ['sport', 'bussiness', 'politics', 'tech', 'entertainment']\r\n",
    "print(pred, labels[np.argmax(pred)])"
   ],
   "outputs": [
    {
     "output_type": "stream",
     "name": "stdout",
     "text": [
      "[[3.3766819e-06 9.9933320e-01 6.6093503e-06 1.6560007e-04 3.4931779e-06\n",
      "  4.8764862e-04]] bussiness\n"
     ]
    }
   ],
   "metadata": {}
  },
  {
   "cell_type": "code",
   "execution_count": null,
   "source": [],
   "outputs": [],
   "metadata": {}
  }
 ],
 "metadata": {
  "orig_nbformat": 4,
  "language_info": {
   "name": "python",
   "version": "3.9.5",
   "mimetype": "text/x-python",
   "codemirror_mode": {
    "name": "ipython",
    "version": 3
   },
   "pygments_lexer": "ipython3",
   "nbconvert_exporter": "python",
   "file_extension": ".py"
  },
  "kernelspec": {
   "name": "python3",
   "display_name": "Python 3.9.5 64-bit ('venv_nlp': venv)"
  },
  "interpreter": {
   "hash": "db31e550d07d6bf6a080c4d9ba761362806b940c68d8be45a7233650890883fa"
  }
 },
 "nbformat": 4,
 "nbformat_minor": 2
}