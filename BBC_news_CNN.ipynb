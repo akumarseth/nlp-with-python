{
 "cells": [
  {
   "cell_type": "code",
   "execution_count": 1,
   "source": [
    "import tensorflow as tf\r\n",
    "print(tf.__version__)"
   ],
   "outputs": [
    {
     "output_type": "stream",
     "name": "stdout",
     "text": [
      "2.6.0\n"
     ]
    }
   ],
   "metadata": {}
  },
  {
   "cell_type": "code",
   "execution_count": 2,
   "source": [
    "import csv\r\n",
    "import tensorflow as tf\r\n",
    "import numpy as np\r\n",
    "from tensorflow.keras.preprocessing.text import Tokenizer\r\n",
    "from tensorflow.keras.preprocessing.sequence import pad_sequences\r\n",
    "from spacy.lang.en.stop_words import STOP_WORDS"
   ],
   "outputs": [],
   "metadata": {}
  },
  {
   "cell_type": "code",
   "execution_count": 4,
   "source": [
    "vocab_size = 5000\r\n",
    "embedding_dim = 64\r\n",
    "max_length = 200\r\n",
    "trunc_type = 'post'\r\n",
    "padding_type = 'post'\r\n",
    "oov_tok = '<OOV>'\r\n",
    "training_portion = .8"
   ],
   "outputs": [],
   "metadata": {}
  },
  {
   "cell_type": "code",
   "execution_count": 5,
   "source": [
    "articles = []\r\n",
    "labels = []\r\n",
    "\r\n",
    "with open(\"data/bbc-news.csv\", 'r') as csvfile:\r\n",
    "    reader = csv.reader(csvfile, delimiter=',')\r\n",
    "    next(reader)\r\n",
    "    for row in reader:\r\n",
    "        labels.append(row[0])\r\n",
    "        article = row[1]\r\n",
    "        for word in STOP_WORDS:\r\n",
    "            token = ' ' + word + ' '\r\n",
    "            article = article.replace(token, ' ')\r\n",
    "            article = article.replace(' ', ' ')\r\n",
    "        articles.append(article)\r\n",
    "print(len(labels))\r\n",
    "print(len(articles))"
   ],
   "outputs": [
    {
     "output_type": "stream",
     "name": "stdout",
     "text": [
      "2225\n",
      "2225\n"
     ]
    }
   ],
   "metadata": {}
  },
  {
   "cell_type": "code",
   "execution_count": 6,
   "source": [
    "train_size = int(len(articles) * training_portion)\r\n",
    "\r\n",
    "train_articles = articles[0: train_size]\r\n",
    "train_labels = labels[0: train_size]\r\n",
    "\r\n",
    "validation_articles = articles[train_size:]\r\n",
    "validation_labels = labels[train_size:]\r\n",
    "\r\n",
    "print(train_size)\r\n",
    "print(len(train_articles))\r\n",
    "print(len(train_labels))\r\n",
    "print(len(validation_articles))\r\n",
    "print(len(validation_labels))"
   ],
   "outputs": [
    {
     "output_type": "stream",
     "name": "stdout",
     "text": [
      "1780\n",
      "1780\n",
      "1780\n",
      "445\n",
      "445\n"
     ]
    }
   ],
   "metadata": {}
  },
  {
   "cell_type": "code",
   "execution_count": 7,
   "source": [
    "tokenizer = Tokenizer(num_words = vocab_size, oov_token=oov_tok)\r\n",
    "tokenizer.fit_on_texts(train_articles)\r\n",
    "word_index = tokenizer.word_index\r\n",
    "\r\n",
    "train_sequences = tokenizer.texts_to_sequences(train_articles)\r\n",
    "train_padded = pad_sequences(train_sequences, maxlen=max_length, padding=padding_type, truncating=trunc_type)\r\n",
    "\r\n",
    "print(len(train_sequences[0]))\r\n",
    "print(len(train_padded[0]))\r\n",
    "\r\n",
    "print(len(train_sequences[1]))\r\n",
    "print(len(train_padded[1]))\r\n",
    "\r\n",
    "print(len(train_sequences[10]))\r\n",
    "print(len(train_padded[10]))"
   ],
   "outputs": [
    {
     "output_type": "stream",
     "name": "stdout",
     "text": [
      "387\n",
      "200\n",
      "178\n",
      "200\n",
      "179\n",
      "200\n"
     ]
    }
   ],
   "metadata": {}
  },
  {
   "cell_type": "code",
   "execution_count": 8,
   "source": [
    "validation_sequences = tokenizer.texts_to_sequences(validation_articles)\r\n",
    "validation_padded = pad_sequences(validation_sequences, maxlen=max_length, padding=padding_type, truncating=trunc_type)\r\n",
    "\r\n",
    "print(len(validation_sequences))\r\n",
    "print(validation_padded.shape)"
   ],
   "outputs": [
    {
     "output_type": "stream",
     "name": "stdout",
     "text": [
      "445\n",
      "(445, 200)\n"
     ]
    }
   ],
   "metadata": {}
  },
  {
   "cell_type": "code",
   "execution_count": 9,
   "source": [
    "label_tokenizer = Tokenizer()\r\n",
    "label_tokenizer.fit_on_texts(labels)\r\n",
    "\r\n",
    "training_label_seq = np.array(label_tokenizer.texts_to_sequences(train_labels))\r\n",
    "validation_label_seq = np.array(label_tokenizer.texts_to_sequences(validation_labels))"
   ],
   "outputs": [],
   "metadata": {}
  },
  {
   "cell_type": "code",
   "execution_count": 10,
   "source": [
    "model = tf.keras.Sequential([\r\n",
    "    tf.keras.layers.Embedding(vocab_size, embedding_dim,\r\n",
    "                             input_length=max_length),\r\n",
    "    # specify the number of convolutions that you want to learn, their size, and their activation function.\r\n",
    "    # words will be grouped into the size of the filter in this case 5\r\n",
    "    tf.keras.layers.Conv1D(128, 5, activation='relu'),\r\n",
    "    tf.keras.layers.GlobalAveragePooling1D(),\r\n",
    "    tf.keras.layers.Dense(64, activation='relu'),\r\n",
    "    tf.keras.layers.Dense(6, activation='softmax')\r\n",
    "])\r\n",
    "model.summary()"
   ],
   "outputs": [
    {
     "output_type": "stream",
     "name": "stdout",
     "text": [
      "Model: \"sequential\"\n",
      "_________________________________________________________________\n",
      "Layer (type)                 Output Shape              Param #   \n",
      "=================================================================\n",
      "embedding (Embedding)        (None, 200, 64)           320000    \n",
      "_________________________________________________________________\n",
      "conv1d (Conv1D)              (None, 196, 128)          41088     \n",
      "_________________________________________________________________\n",
      "global_average_pooling1d (Gl (None, 128)               0         \n",
      "_________________________________________________________________\n",
      "dense (Dense)                (None, 64)                8256      \n",
      "_________________________________________________________________\n",
      "dense_1 (Dense)              (None, 6)                 390       \n",
      "=================================================================\n",
      "Total params: 369,734\n",
      "Trainable params: 369,734\n",
      "Non-trainable params: 0\n",
      "_________________________________________________________________\n"
     ]
    }
   ],
   "metadata": {}
  },
  {
   "cell_type": "markdown",
   "source": [
    "When we look at the summary of the model, the size of the input was 200 words, and a filter that is 5 words long will shave off 2 words from the front and back, leaving us with 196. The 128 filters that we specified will show up here as part of the convolutional layer."
   ],
   "metadata": {}
  },
  {
   "cell_type": "code",
   "execution_count": 11,
   "source": [
    "model.compile(loss='sparse_categorical_crossentropy', optimizer='adam', metrics=['accuracy'])"
   ],
   "outputs": [],
   "metadata": {}
  },
  {
   "cell_type": "code",
   "execution_count": 12,
   "source": [
    "num_epochs = 10\r\n",
    "history = model.fit(train_padded, training_label_seq, epochs=num_epochs, \\\r\n",
    "    validation_data=(validation_padded, validation_label_seq), verbose=2)"
   ],
   "outputs": [
    {
     "output_type": "stream",
     "name": "stdout",
     "text": [
      "Epoch 1/10\n",
      "56/56 - 1s - loss: 1.5656 - accuracy: 0.3618 - val_loss: 1.1023 - val_accuracy: 0.5910\n",
      "Epoch 2/10\n",
      "56/56 - 1s - loss: 0.6270 - accuracy: 0.8427 - val_loss: 0.3054 - val_accuracy: 0.9438\n",
      "Epoch 3/10\n",
      "56/56 - 1s - loss: 0.1181 - accuracy: 0.9831 - val_loss: 0.1437 - val_accuracy: 0.9730\n",
      "Epoch 4/10\n",
      "56/56 - 1s - loss: 0.0355 - accuracy: 0.9961 - val_loss: 0.0980 - val_accuracy: 0.9708\n",
      "Epoch 5/10\n",
      "56/56 - 1s - loss: 0.0139 - accuracy: 1.0000 - val_loss: 0.0881 - val_accuracy: 0.9730\n",
      "Epoch 6/10\n",
      "56/56 - 1s - loss: 0.0070 - accuracy: 1.0000 - val_loss: 0.0919 - val_accuracy: 0.9685\n",
      "Epoch 7/10\n",
      "56/56 - 1s - loss: 0.0045 - accuracy: 1.0000 - val_loss: 0.0829 - val_accuracy: 0.9753\n",
      "Epoch 8/10\n",
      "56/56 - 1s - loss: 0.0030 - accuracy: 1.0000 - val_loss: 0.0836 - val_accuracy: 0.9730\n",
      "Epoch 9/10\n",
      "56/56 - 1s - loss: 0.0022 - accuracy: 1.0000 - val_loss: 0.0814 - val_accuracy: 0.9730\n",
      "Epoch 10/10\n",
      "56/56 - 1s - loss: 0.0017 - accuracy: 1.0000 - val_loss: 0.0851 - val_accuracy: 0.9753\n"
     ]
    }
   ],
   "metadata": {}
  },
  {
   "cell_type": "markdown",
   "source": [
    "Our accuracy does even better than before with 100% on training and around 97% on validation. The validation loss did not increase.\r\n",
    "\r\n",
    "As we have a super simple network here, it's not surprising, and it will take some experimentation with different combinations of convolutional layers to improve on this."
   ],
   "metadata": {}
  },
  {
   "cell_type": "code",
   "execution_count": 14,
   "source": [
    "import matplotlib.pyplot as plt\r\n",
    "\r\n",
    "def plot_graphs(history, string):\r\n",
    "  plt.plot(history.history[string])\r\n",
    "  plt.plot(history.history['val_'+string])\r\n",
    "  plt.xlabel(\"Epochs\")\r\n",
    "  plt.ylabel(string)\r\n",
    "  plt.legend([string, 'val_'+string])\r\n",
    "  plt.show()\r\n",
    "  \r\n",
    "plot_graphs(history, \"accuracy\")\r\n",
    "plot_graphs(history, \"loss\")"
   ],
   "outputs": [
    {
     "output_type": "display_data",
     "data": {
      "image/png": "[encoded data removed]",
      "text/plain": [
       "<Figure size 432x288 with 1 Axes>"
      ]
     },
     "metadata": {
      "needs_background": "light"
     }
    },
    {
     "output_type": "display_data",
     "data": {
      "image/png": "[encoded data removed]",
      "text/plain": [
       "<Figure size 432x288 with 1 Axes>"
      ]
     },
     "metadata": {
      "needs_background": "light"
     }
    }
   ],
   "metadata": {}
  },
  {
   "cell_type": "code",
   "execution_count": 15,
   "source": [
    "txt = [\"A WeWork shareholder has taken the company to court over the near-$1.7bn (£1.3bn) leaving package approved for ousted co-founder Adam Neumann.\"]\r\n",
    "seq = tokenizer.texts_to_sequences(txt)\r\n",
    "padded = pad_sequences(seq, maxlen=max_length)\r\n",
    "pred = model.predict(padded)\r\n",
    "labels = ['sport', 'bussiness', 'politics', 'tech', 'entertainment']\r\n",
    "print(pred, labels[np.argmax(pred)])"
   ],
   "outputs": [
    {
     "output_type": "stream",
     "name": "stdout",
     "text": [
      "[[3.5311829e-04 9.2054945e-01 3.2995965e-02 8.8219531e-03 8.5946645e-05\n",
      "  3.7193585e-02]] bussiness\n"
     ]
    }
   ],
   "metadata": {}
  },
  {
   "cell_type": "code",
   "execution_count": null,
   "source": [],
   "outputs": [],
   "metadata": {}
  }
 ],
 "metadata": {
  "orig_nbformat": 4,
  "language_info": {
   "name": "python",
   "version": "3.9.5",
   "mimetype": "text/x-python",
   "codemirror_mode": {
    "name": "ipython",
    "version": 3
   },
   "pygments_lexer": "ipython3",
   "nbconvert_exporter": "python",
   "file_extension": ".py"
  },
  "kernelspec": {
   "name": "python3",
   "display_name": "Python 3.9.5 64-bit ('venv_nlp': venv)"
  },
  "interpreter": {
   "hash": "db31e550d07d6bf6a080c4d9ba761362806b940c68d8be45a7233650890883fa"
  }
 },
 "nbformat": 4,
 "nbformat_minor": 2
}