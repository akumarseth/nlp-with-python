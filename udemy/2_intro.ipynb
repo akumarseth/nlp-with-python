{
 "cells": [
  {
   "cell_type": "code",
   "execution_count": 16,
   "source": [
    "import spacy\r\n",
    "nlp = spacy.load('en_core_web_sm')"
   ],
   "outputs": [],
   "metadata": {}
  },
  {
   "cell_type": "code",
   "execution_count": 17,
   "source": [
    "doc = nlp(u'Tesla is looking at buying U.S. startup for $6 million')"
   ],
   "outputs": [],
   "metadata": {}
  },
  {
   "cell_type": "code",
   "execution_count": 18,
   "source": [
    "for token in doc:\r\n",
    "    print(f' {token.text:{15}}, {token.pos:{15}}, {token.pos_:{15}}, {token.dep:{15}}, {token.dep_:{15}}')"
   ],
   "outputs": [
    {
     "output_type": "stream",
     "name": "stdout",
     "text": [
      " Tesla          ,              96, PROPN          ,             429, nsubj          \n",
      " is             ,              87, AUX            ,             405, aux            \n",
      " looking        ,             100, VERB           , 8206900633647566924, ROOT           \n",
      " at             ,              85, ADP            ,             443, prep           \n",
      " buying         ,             100, VERB           ,             438, pcomp          \n",
      " U.S.           ,              96, PROPN          , 7037928807040764755, compound       \n",
      " startup        ,              92, NOUN           ,             416, dobj           \n",
      " for            ,              85, ADP            ,             443, prep           \n",
      " $              ,              99, SYM            ,             446, quantmod       \n",
      " 6              ,              93, NUM            , 7037928807040764755, compound       \n",
      " million        ,              93, NUM            ,             439, pobj           \n"
     ]
    }
   ],
   "metadata": {}
  },
  {
   "cell_type": "code",
   "execution_count": 19,
   "source": [
    "nlp.pipeline"
   ],
   "outputs": [
    {
     "output_type": "execute_result",
     "data": {
      "text/plain": [
       "[('tok2vec', <spacy.pipeline.tok2vec.Tok2Vec at 0x21a7330e180>),\n",
       " ('tagger', <spacy.pipeline.tagger.Tagger at 0x21a781c7e50>),\n",
       " ('parser', <spacy.pipeline.dep_parser.DependencyParser at 0x21a78002a60>),\n",
       " ('ner', <spacy.pipeline.ner.EntityRecognizer at 0x21a78002ee0>),\n",
       " ('attribute_ruler',\n",
       "  <spacy.pipeline.attributeruler.AttributeRuler at 0x21a78067140>),\n",
       " ('lemmatizer', <spacy.lang.en.lemmatizer.EnglishLemmatizer at 0x21a7806f1c0>)]"
      ]
     },
     "metadata": {},
     "execution_count": 19
    }
   ],
   "metadata": {}
  },
  {
   "cell_type": "code",
   "execution_count": 20,
   "source": [
    "nlp.pipe_names"
   ],
   "outputs": [
    {
     "output_type": "execute_result",
     "data": {
      "text/plain": [
       "['tok2vec', 'tagger', 'parser', 'ner', 'attribute_ruler', 'lemmatizer']"
      ]
     },
     "metadata": {},
     "execution_count": 20
    }
   ],
   "metadata": {}
  },
  {
   "cell_type": "code",
   "execution_count": 21,
   "source": [
    "doc2 = nlp(u\"Tesla isn't looking into startups anymore\")"
   ],
   "outputs": [],
   "metadata": {}
  },
  {
   "cell_type": "code",
   "execution_count": 22,
   "source": [
    "for token in doc2:\r\n",
    "    print(token.text, token.pos, token.pos_, token.dep, token.dep_)"
   ],
   "outputs": [
    {
     "output_type": "stream",
     "name": "stdout",
     "text": [
      "Tesla 96 PROPN 429 nsubj\n",
      "is 87 AUX 405 aux\n",
      "n't 94 PART 425 neg\n",
      "looking 100 VERB 8206900633647566924 ROOT\n",
      "into 85 ADP 443 prep\n",
      "startups 92 NOUN 439 pobj\n",
      "anymore 86 ADV 400 advmod\n"
     ]
    }
   ],
   "metadata": {}
  },
  {
   "cell_type": "code",
   "execution_count": 23,
   "source": [
    "doc2[0].pos_"
   ],
   "outputs": [
    {
     "output_type": "execute_result",
     "data": {
      "text/plain": [
       "'PROPN'"
      ]
     },
     "metadata": {},
     "execution_count": 23
    }
   ],
   "metadata": {}
  },
  {
   "cell_type": "code",
   "execution_count": 24,
   "source": [
    "doc2[0].dep_"
   ],
   "outputs": [
    {
     "output_type": "execute_result",
     "data": {
      "text/plain": [
       "'nsubj'"
      ]
     },
     "metadata": {},
     "execution_count": 24
    }
   ],
   "metadata": {}
  },
  {
   "cell_type": "code",
   "execution_count": 25,
   "source": [
    "doc3 = nlp(u'Although commmonly attributed to John Lennon from his song \"Beautiful Boy\", \\\r\n",
    "the phrase \"Life is what happens to us while we are making other plans\" was written by \\\r\n",
    "cartoonist Allen Saunders and published in Reader\\'s Digest in 1957, when Lennon was 17.')"
   ],
   "outputs": [],
   "metadata": {}
  },
  {
   "cell_type": "code",
   "execution_count": 26,
   "source": [
    "life_quate = doc3[16:30]"
   ],
   "outputs": [],
   "metadata": {}
  },
  {
   "cell_type": "code",
   "execution_count": 27,
   "source": [
    "life_quate"
   ],
   "outputs": [
    {
     "output_type": "execute_result",
     "data": {
      "text/plain": [
       "\"Life is what happens to us while we are making other plans\""
      ]
     },
     "metadata": {},
     "execution_count": 27
    }
   ],
   "metadata": {}
  },
  {
   "cell_type": "code",
   "execution_count": 28,
   "source": [
    "type(life_quate)"
   ],
   "outputs": [
    {
     "output_type": "execute_result",
     "data": {
      "text/plain": [
       "spacy.tokens.span.Span"
      ]
     },
     "metadata": {},
     "execution_count": 28
    }
   ],
   "metadata": {}
  },
  {
   "cell_type": "code",
   "execution_count": 29,
   "source": [
    "type(doc3)"
   ],
   "outputs": [
    {
     "output_type": "execute_result",
     "data": {
      "text/plain": [
       "spacy.tokens.doc.Doc"
      ]
     },
     "metadata": {},
     "execution_count": 29
    }
   ],
   "metadata": {}
  },
  {
   "cell_type": "code",
   "execution_count": 31,
   "source": [
    "doc4 = nlp(u'This is the first sentence. This is another sentence. This is the last sentence.')"
   ],
   "outputs": [],
   "metadata": {}
  },
  {
   "cell_type": "code",
   "execution_count": 32,
   "source": [
    "for sentence in doc4.sents:\r\n",
    "    print(sentence)"
   ],
   "outputs": [
    {
     "output_type": "stream",
     "name": "stdout",
     "text": [
      "This is the first sentence.\n",
      "This is another sentence.\n",
      "This is the last sentence.\n"
     ]
    }
   ],
   "metadata": {}
  },
  {
   "cell_type": "code",
   "execution_count": 33,
   "source": [
    "doc4[6].is_sent_start"
   ],
   "outputs": [
    {
     "output_type": "execute_result",
     "data": {
      "text/plain": [
       "True"
      ]
     },
     "metadata": {},
     "execution_count": 33
    }
   ],
   "metadata": {}
  },
  {
   "cell_type": "code",
   "execution_count": 34,
   "source": [
    "for sentence in doc4:\r\n",
    "    print(sentence)"
   ],
   "outputs": [
    {
     "output_type": "stream",
     "name": "stdout",
     "text": [
      "This\n",
      "is\n",
      "the\n",
      "first\n",
      "sentence\n",
      ".\n",
      "This\n",
      "is\n",
      "another\n",
      "sentence\n",
      ".\n",
      "This\n",
      "is\n",
      "the\n",
      "last\n",
      "sentence\n",
      ".\n"
     ]
    }
   ],
   "metadata": {}
  },
  {
   "cell_type": "code",
   "execution_count": null,
   "source": [],
   "outputs": [],
   "metadata": {}
  }
 ],
 "metadata": {
  "kernelspec": {
   "name": "python3",
   "display_name": "Python 3.9.5 64-bit ('venv_datascience': venv)"
  },
  "language_info": {
   "codemirror_mode": {
    "name": "ipython",
    "version": 3
   },
   "file_extension": ".py",
   "mimetype": "text/x-python",
   "name": "python",
   "nbconvert_exporter": "python",
   "pygments_lexer": "ipython3",
   "version": "3.9.5"
  },
  "interpreter": {
   "hash": "cd2eb60fb626c8b3c62532dabbad0328d4ef163364388f62e4351269bf2999f7"
  }
 },
 "nbformat": 4,
 "nbformat_minor": 5
}