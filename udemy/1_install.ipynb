{
 "cells": [
  {
   "cell_type": "code",
   "execution_count": 10,
   "id": "4288f412-dfea-40c5-8435-b36fa8d4526d",
   "metadata": {},
   "outputs": [],
   "source": [
    "!pip install spacy"
   ]
  },
  {
   "cell_type": "code",
   "execution_count": null,
   "id": "a85abc4d-6400-4a73-bbea-e1bf146a7dc3",
   "metadata": {},
   "outputs": [],
   "source": [
    "!python -m spacy download en"
   ]
  },
  {
   "cell_type": "code",
   "execution_count": null,
   "id": "c1702c69-c82f-48df-a79b-4192d38a9f1b",
   "metadata": {},
   "outputs": [],
   "source": [
    "!python -m spacy download en_core_web_sm"
   ]
  },
  {
   "cell_type": "code",
   "execution_count": null,
   "id": "bf67d14b-dd0d-45c7-8653-f1f4fad824cb",
   "metadata": {},
   "outputs": [],
   "source": [
    "!pip install -U pip setuptools wheel"
   ]
  },
  {
   "cell_type": "code",
   "execution_count": null,
   "id": "cc06de4f-b0d1-446a-81e2-6df8670da5f9",
   "metadata": {},
   "outputs": [],
   "source": [
    "!pip install -U spaCy"
   ]
  },
  {
   "cell_type": "code",
   "execution_count": null,
   "id": "67900f21-7473-451f-b771-5f047980e6db",
   "metadata": {},
   "outputs": [],
   "source": [
    "import spacy"
   ]
  },
  {
   "cell_type": "code",
   "execution_count": null,
   "id": "7c651e2b-b757-4b61-a21e-bfc74858cdd3",
   "metadata": {},
   "outputs": [],
   "source": [
    "!pip install ipykernel"
   ]
  },
  {
   "cell_type": "code",
   "execution_count": null,
   "id": "0ac2b6c8-ff2f-416b-a42a-b91de68e8ec0",
   "metadata": {},
   "outputs": [],
   "source": [
    "python -m ipykernel install --user --name=newkernelinvenv"
   ]
  },
  {
   "cell_type": "markdown",
   "id": "6cc63086-3325-4ea1-95df-180e03f8defb",
   "metadata": {
    "tags": []
   },
   "source": [
    "## Select newkernelinvenv"
   ]
  },
  {
   "cell_type": "code",
   "execution_count": null,
   "id": "213fbef3-73e7-4e1a-91e2-1abc1c865cc0",
   "metadata": {},
   "outputs": [],
   "source": [
    "import spacy"
   ]
  },
  {
   "cell_type": "code",
   "execution_count": null,
   "id": "0d7f1d6d-9817-4716-94ad-2569076ec71d",
   "metadata": {},
   "outputs": [],
   "source": []
  },
  {
   "cell_type": "code",
   "execution_count": null,
   "id": "0a699a59-661b-450a-967b-827d8f57bfb6",
   "metadata": {},
   "outputs": [],
   "source": [
    "# import sys\n",
    "# !{sys.executable} -m pip install spacy\n",
    "# !{sys.executable} -m spacy download en"
   ]
  },
  {
   "cell_type": "code",
   "execution_count": null,
   "id": "3cb3823d-fa6b-4b73-9244-c83862e6f300",
   "metadata": {},
   "outputs": [],
   "source": [
    "# import spacy"
   ]
  },
  {
   "cell_type": "code",
   "execution_count": null,
   "id": "54f765f5-4f2d-4288-bf60-24dee896e7d4",
   "metadata": {},
   "outputs": [],
   "source": []
  }
 ],
 "metadata": {
  "kernelspec": {
   "display_name": "newkernelinvenv",
   "language": "python",
   "name": "newkernelinvenv"
  },
  "language_info": {
   "codemirror_mode": {
    "name": "ipython",
    "version": 3
   },
   "file_extension": ".py",
   "mimetype": "text/x-python",
   "name": "python",
   "nbconvert_exporter": "python",
   "pygments_lexer": "ipython3",
   "version": "3.9.5"
  }
 },
 "nbformat": 4,
 "nbformat_minor": 5
}
