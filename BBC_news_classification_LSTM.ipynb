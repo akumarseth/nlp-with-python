{
 "cells": [
  {
   "cell_type": "code",
   "execution_count": 95,
   "source": [
    "import tensorflow as tf\r\n",
    "print(tf.__version__)"
   ],
   "outputs": [
    {
     "output_type": "stream",
     "name": "stdout",
     "text": [
      "2.6.0\n"
     ]
    }
   ],
   "metadata": {}
  },
  {
   "cell_type": "code",
   "execution_count": 96,
   "source": [
    "\r\n",
    "import csv\r\n",
    "import tensorflow as tf\r\n",
    "import numpy as np\r\n",
    "from tensorflow.keras.preprocessing.text import Tokenizer\r\n",
    "from tensorflow.keras.preprocessing.sequence import pad_sequences\r\n",
    "from spacy.lang.en.stop_words import STOP_WORDS"
   ],
   "outputs": [],
   "metadata": {}
  },
  {
   "cell_type": "markdown",
   "source": [
    "##### Put the hyparameters at the top like this to make it easier to change and edit."
   ],
   "metadata": {}
  },
  {
   "cell_type": "code",
   "execution_count": 97,
   "source": [
    "vocab_size = 5000\r\n",
    "embedding_dim = 64\r\n",
    "max_length = 200\r\n",
    "trunc_type = 'post'\r\n",
    "padding_type = 'post'\r\n",
    "oov_tok = '<OOV>'\r\n",
    "training_portion = .8"
   ],
   "outputs": [],
   "metadata": {}
  },
  {
   "cell_type": "markdown",
   "source": [
    "#### First, let's define two lists that containing articles and labels. In the meantime, we remove stopwords."
   ],
   "metadata": {}
  },
  {
   "cell_type": "code",
   "execution_count": 99,
   "source": [
    "articles = []\r\n",
    "labels = []\r\n",
    "\r\n",
    "with open(\"data/bbc-news.csv\", 'r') as csvfile:\r\n",
    "    reader = csv.reader(csvfile, delimiter=',')\r\n",
    "    next(reader)\r\n",
    "    for row in reader:\r\n",
    "        labels.append(row[0])\r\n",
    "        article = row[1]\r\n",
    "        for word in STOP_WORDS:\r\n",
    "            token = ' ' + word + ' '\r\n",
    "            article = article.replace(token, ' ')\r\n",
    "            article = article.replace(' ', ' ')\r\n",
    "        articles.append(article)\r\n",
    "print(len(labels))\r\n",
    "print(len(articles))"
   ],
   "outputs": [
    {
     "output_type": "stream",
     "name": "stdout",
     "text": [
      "2225\n",
      "2225\n"
     ]
    }
   ],
   "metadata": {}
  },
  {
   "cell_type": "code",
   "execution_count": 101,
   "source": [
    "set(labels)"
   ],
   "outputs": [
    {
     "output_type": "execute_result",
     "data": {
      "text/plain": [
       "{'business', 'entertainment', 'politics', 'sport', 'tech'}"
      ]
     },
     "metadata": {},
     "execution_count": 101
    }
   ],
   "metadata": {}
  },
  {
   "cell_type": "markdown",
   "source": [
    "#### There are only 2,225 articles in the data. Then we split into training set and validation set, according to the parameter we set earlier, 80% for training, 20% for validation."
   ],
   "metadata": {}
  },
  {
   "cell_type": "code",
   "execution_count": 67,
   "source": [
    "train_size = int(len(articles) * training_portion)\r\n",
    "\r\n",
    "train_articles = articles[0: train_size]\r\n",
    "train_labels = labels[0: train_size]\r\n",
    "\r\n",
    "validation_articles = articles[train_size:]\r\n",
    "validation_labels = labels[train_size:]\r\n",
    "\r\n",
    "print(train_size)\r\n",
    "print(len(train_articles))\r\n",
    "print(len(train_labels))\r\n",
    "print(len(validation_articles))\r\n",
    "print(len(validation_labels))"
   ],
   "outputs": [
    {
     "output_type": "stream",
     "name": "stdout",
     "text": [
      "1780\n",
      "1780\n",
      "1780\n",
      "445\n",
      "445\n"
     ]
    }
   ],
   "metadata": {}
  },
  {
   "cell_type": "markdown",
   "source": [
    "Tokenizer does all the heavy lifting for us. In our articles that it was tokenizing, it will take 5,000 most common words. oov_token is to put a special value in when an unseen word is encountered. This means I want \"OOV\" in bracket to be used to for words that are not in the word index. \"fit_on_text\" will go through all the text and create dictionary like this:"
   ],
   "metadata": {}
  },
  {
   "cell_type": "code",
   "execution_count": 68,
   "source": [
    "tokenizer = Tokenizer(num_words = vocab_size, oov_token=oov_tok)\r\n",
    "tokenizer.fit_on_texts(train_articles)\r\n",
    "word_index = tokenizer.word_index"
   ],
   "outputs": [],
   "metadata": {}
  },
  {
   "cell_type": "markdown",
   "source": [
    "You can see that \"OOV\" in bracket is number 1, \"said\" is number 2, \"mr\" is number 3, and so on."
   ],
   "metadata": {}
  },
  {
   "cell_type": "code",
   "execution_count": 69,
   "source": [
    "dict(list(word_index.items())[0:10])"
   ],
   "outputs": [
    {
     "output_type": "execute_result",
     "data": {
      "text/plain": [
       "{'<OOV>': 1,\n",
       " 's': 2,\n",
       " 'said': 3,\n",
       " 'mr': 4,\n",
       " 'year': 5,\n",
       " 'people': 6,\n",
       " 'new': 7,\n",
       " 't': 8,\n",
       " 'time': 9,\n",
       " 'government': 10}"
      ]
     },
     "metadata": {},
     "execution_count": 69
    }
   ],
   "metadata": {}
  },
  {
   "cell_type": "markdown",
   "source": [
    "This process cleans up our text, lowercase, and remove punctuations.\r\n",
    "\r\n",
    "After tokenization, the next step is to turn thoes tokens into lists of sequence."
   ],
   "metadata": {}
  },
  {
   "cell_type": "code",
   "execution_count": 70,
   "source": [
    "train_sequences = tokenizer.texts_to_sequences(train_articles)"
   ],
   "outputs": [],
   "metadata": {}
  },
  {
   "cell_type": "markdown",
   "source": [
    "This is the 11th article in the training data that has been turned into sequences."
   ],
   "metadata": {}
  },
  {
   "cell_type": "code",
   "execution_count": 71,
   "source": [
    "print(train_sequences[10])"
   ],
   "outputs": [
    {
     "output_type": "stream",
     "name": "stdout",
     "text": [
      "[2352, 1, 184, 4924, 15, 575, 522, 184, 4924, 1, 1, 1577, 1, 1, 2352, 15, 502, 1, 1, 109, 233, 1, 109, 233, 721, 748, 594, 2228, 1, 1062, 1609, 1, 1636, 4925, 1, 1, 1, 1, 1, 4668, 1, 1, 91, 4443, 1, 3, 2794, 1420, 4669, 1, 36, 2091, 3884, 26, 15, 3715, 1, 1, 1, 1, 2, 480, 1, 1, 1, 760, 565, 2, 2286, 295, 4670, 1, 15, 1, 713, 2287, 1, 4227, 107, 1, 2, 3584, 612, 3450, 1, 15, 1, 357, 748, 594, 1, 64, 567, 1, 184, 4924, 1, 534, 1, 1609, 940, 1, 4926, 734, 1781, 87, 1, 1, 1, 2, 2894, 15, 1, 233, 1, 2, 1523, 4927, 480, 433, 1, 1362, 4671, 704, 1239, 1, 1777, 575, 273, 1, 418, 502, 255, 1421, 15, 419, 1, 2, 1, 1581, 1, 722, 1, 2987, 1, 1283, 1, 2352, 502, 15, 2891, 4665, 1, 1, 1, 1, 1, 775, 24, 1742, 606, 251, 17, 900, 1, 806, 15, 307, 15, 255, 1421, 1261, 319, 14, 42, 807, 1014, 4228, 205]\n"
     ]
    }
   ],
   "metadata": {}
  },
  {
   "cell_type": "markdown",
   "source": [
    "When we train neural networks for NLP, we need sequences to be in the same size, that's why we use padding. Our max_length is 200, so we use pad_sequences to make all of our articles the same length which is 200 in my example. That's why you see that the 1st article was 426 in length, becomes 200, the 2nd article was 192 in length, becomes 200, and so on"
   ],
   "metadata": {}
  },
  {
   "cell_type": "code",
   "execution_count": 72,
   "source": [
    "train_padded = pad_sequences(train_sequences, maxlen=max_length, padding=padding_type, truncating=trunc_type)"
   ],
   "outputs": [],
   "metadata": {}
  },
  {
   "cell_type": "code",
   "execution_count": 73,
   "source": [
    "print(len(train_sequences[0]))\r\n",
    "print(len(train_padded[0]))\r\n",
    "\r\n",
    "print(len(train_sequences[1]))\r\n",
    "print(len(train_padded[1]))\r\n",
    "\r\n",
    "print(len(train_sequences[10]))\r\n",
    "print(len(train_padded[10]))"
   ],
   "outputs": [
    {
     "output_type": "stream",
     "name": "stdout",
     "text": [
      "387\n",
      "200\n",
      "178\n",
      "200\n",
      "179\n",
      "200\n"
     ]
    }
   ],
   "metadata": {}
  },
  {
   "cell_type": "markdown",
   "source": [
    "In addtion, there is padding type and truncating type, there are all \"post\". Means for example, for the 11th article, it was 186 in length, we padded to 200, and we padded at the end, add 14 zeros."
   ],
   "metadata": {}
  },
  {
   "cell_type": "code",
   "execution_count": 74,
   "source": [
    "print(train_sequences[10])"
   ],
   "outputs": [
    {
     "output_type": "stream",
     "name": "stdout",
     "text": [
      "[2352, 1, 184, 4924, 15, 575, 522, 184, 4924, 1, 1, 1577, 1, 1, 2352, 15, 502, 1, 1, 109, 233, 1, 109, 233, 721, 748, 594, 2228, 1, 1062, 1609, 1, 1636, 4925, 1, 1, 1, 1, 1, 4668, 1, 1, 91, 4443, 1, 3, 2794, 1420, 4669, 1, 36, 2091, 3884, 26, 15, 3715, 1, 1, 1, 1, 2, 480, 1, 1, 1, 760, 565, 2, 2286, 295, 4670, 1, 15, 1, 713, 2287, 1, 4227, 107, 1, 2, 3584, 612, 3450, 1, 15, 1, 357, 748, 594, 1, 64, 567, 1, 184, 4924, 1, 534, 1, 1609, 940, 1, 4926, 734, 1781, 87, 1, 1, 1, 2, 2894, 15, 1, 233, 1, 2, 1523, 4927, 480, 433, 1, 1362, 4671, 704, 1239, 1, 1777, 575, 273, 1, 418, 502, 255, 1421, 15, 419, 1, 2, 1, 1581, 1, 722, 1, 2987, 1, 1283, 1, 2352, 502, 15, 2891, 4665, 1, 1, 1, 1, 1, 775, 24, 1742, 606, 251, 17, 900, 1, 806, 15, 307, 15, 255, 1421, 1261, 319, 14, 42, 807, 1014, 4228, 205]\n"
     ]
    }
   ],
   "metadata": {}
  },
  {
   "cell_type": "code",
   "execution_count": 75,
   "source": [
    "print(train_padded[10])"
   ],
   "outputs": [
    {
     "output_type": "stream",
     "name": "stdout",
     "text": [
      "[2352    1  184 4924   15  575  522  184 4924    1    1 1577    1    1\n",
      " 2352   15  502    1    1  109  233    1  109  233  721  748  594 2228\n",
      "    1 1062 1609    1 1636 4925    1    1    1    1    1 4668    1    1\n",
      "   91 4443    1    3 2794 1420 4669    1   36 2091 3884   26   15 3715\n",
      "    1    1    1    1    2  480    1    1    1  760  565    2 2286  295\n",
      " 4670    1   15    1  713 2287    1 4227  107    1    2 3584  612 3450\n",
      "    1   15    1  357  748  594    1   64  567    1  184 4924    1  534\n",
      "    1 1609  940    1 4926  734 1781   87    1    1    1    2 2894   15\n",
      "    1  233    1    2 1523 4927  480  433    1 1362 4671  704 1239    1\n",
      " 1777  575  273    1  418  502  255 1421   15  419    1    2    1 1581\n",
      "    1  722    1 2987    1 1283    1 2352  502   15 2891 4665    1    1\n",
      "    1    1    1  775   24 1742  606  251   17  900    1  806   15  307\n",
      "   15  255 1421 1261  319   14   42  807 1014 4228  205    0    0    0\n",
      "    0    0    0    0    0    0    0    0    0    0    0    0    0    0\n",
      "    0    0    0    0]\n"
     ]
    }
   ],
   "metadata": {}
  },
  {
   "cell_type": "markdown",
   "source": [
    "And for the 1st article, it was 426 in length, we truncated to 200, and we truncated at the end."
   ],
   "metadata": {}
  },
  {
   "cell_type": "code",
   "execution_count": 76,
   "source": [
    "print(train_sequences[0])"
   ],
   "outputs": [
    {
     "output_type": "stream",
     "name": "stdout",
     "text": [
      "[65, 124, 1059, 1024, 33, 900, 682, 1, 63, 1222, 4214, 98, 138, 3574, 1133, 1113, 1492, 27, 6, 817, 65, 1, 286, 14, 9, 99, 3184, 1134, 2342, 506, 393, 1295, 3298, 3440, 1575, 7, 844, 659, 769, 1, 533, 1493, 1025, 338, 1858, 1024, 33, 475, 1317, 1929, 1538, 103, 207, 83, 2275, 4909, 901, 519, 3879, 3880, 844, 2483, 98, 293, 138, 3574, 1, 1, 24, 1494, 2788, 19, 2, 4652, 12, 2, 1223, 105, 359, 6, 112, 1340, 49, 4431, 377, 4910, 65, 1025, 54, 1, 58, 1930, 1, 65, 927, 469, 63, 1222, 65, 1882, 100, 106, 363, 2789, 118, 1152, 63, 1222, 4653, 6, 377, 4910, 3075, 2412, 1, 373, 1044, 1, 1341, 1075, 1819, 1, 692, 475, 1317, 1929, 103, 1986, 343, 770, 1883, 1516, 1632, 2790, 1, 1, 2343, 2544, 58, 660, 1091, 1114, 118, 650, 526, 1, 93, 19, 1223, 1605, 374, 85, 14, 9, 12, 3076, 1, 23, 1400, 2, 1, 16, 23, 61, 287, 2276, 23, 408, 213, 1883, 1277, 2638, 1, 253, 660, 1092, 12, 2791, 1632, 1, 249, 1, 992, 338, 1931, 373, 1931, 3, 1278, 1, 1632, 2085, 47, 1, 1, 1633, 207, 1576, 2979, 1093, 338, 26, 802, 204, 2715, 294, 485, 343, 3, 1, 1, 587, 1279, 163, 65, 3881, 65, 64, 27, 6, 274, 338, 54, 817, 1, 65, 1024, 343, 475, 770, 2343, 1, 915, 2, 451, 423, 1987, 124, 507, 1, 97, 6, 274, 54, 817, 1135, 1044, 1380, 37, 2134, 1136, 670, 214, 230, 938, 49, 557, 2344, 1134, 2277, 1634, 1, 3704, 3441, 1, 1044, 1931, 140, 316, 54, 485, 1059, 4, 1, 966, 66, 2882, 1, 2545, 1, 382, 394, 3, 4, 1, 2792, 393, 1342, 28, 54, 371, 20, 7, 938, 844, 1, 2483, 1, 65, 1606, 803, 63, 1222, 65, 1882, 7, 1539, 1, 1, 4215, 1495, 4214, 588, 1, 3705, 927, 507, 4216, 2788, 804, 588, 1, 2, 1179, 1, 1, 65, 1469, 856, 4652, 1, 512, 4031, 2, 195, 1929, 65, 103, 1, 588, 3185, 1, 456, 604, 2546, 3705, 4911, 3299, 423, 4654, 24, 4431, 1, 65, 1664, 604, 225, 86, 199, 2547, 301, 577, 1137, 4032, 683, 3575, 4652, 114, 1, 343, 6, 49, 1665, 1025, 693, 833, 88, 519, 3300, 1235, 1493, 1, 1517, 6, 817, 54, 54]\n"
     ]
    }
   ],
   "metadata": {}
  },
  {
   "cell_type": "code",
   "execution_count": 77,
   "source": [
    "print(train_padded[0])"
   ],
   "outputs": [
    {
     "output_type": "stream",
     "name": "stdout",
     "text": [
      "[  65  124 1059 1024   33  900  682    1   63 1222 4214   98  138 3574\n",
      " 1133 1113 1492   27    6  817   65    1  286   14    9   99 3184 1134\n",
      " 2342  506  393 1295 3298 3440 1575    7  844  659  769    1  533 1493\n",
      " 1025  338 1858 1024   33  475 1317 1929 1538  103  207   83 2275 4909\n",
      "  901  519 3879 3880  844 2483   98  293  138 3574    1    1   24 1494\n",
      " 2788   19    2 4652   12    2 1223  105  359    6  112 1340   49 4431\n",
      "  377 4910   65 1025   54    1   58 1930    1   65  927  469   63 1222\n",
      "   65 1882  100  106  363 2789  118 1152   63 1222 4653    6  377 4910\n",
      " 3075 2412    1  373 1044    1 1341 1075 1819    1  692  475 1317 1929\n",
      "  103 1986  343  770 1883 1516 1632 2790    1    1 2343 2544   58  660\n",
      " 1091 1114  118  650  526    1   93   19 1223 1605  374   85   14    9\n",
      "   12 3076    1   23 1400    2    1   16   23   61  287 2276   23  408\n",
      "  213 1883 1277 2638    1  253  660 1092   12 2791 1632    1  249    1\n",
      "  992  338 1931  373 1931    3 1278    1 1632 2085   47    1    1 1633\n",
      "  207 1576 2979 1093]\n"
     ]
    }
   ],
   "metadata": {}
  },
  {
   "cell_type": "markdown",
   "source": [
    "Then we do the same for the validation sequences. Note that we should expect more out of vocabulary words from validation articles because word index were derived from the training articles."
   ],
   "metadata": {}
  },
  {
   "cell_type": "code",
   "execution_count": 78,
   "source": [
    "validation_sequences = tokenizer.texts_to_sequences(validation_articles)\r\n",
    "validation_padded = pad_sequences(validation_sequences, maxlen=max_length, padding=padding_type, truncating=trunc_type)\r\n",
    "\r\n",
    "print(len(validation_sequences))\r\n",
    "print(validation_padded.shape)"
   ],
   "outputs": [
    {
     "output_type": "stream",
     "name": "stdout",
     "text": [
      "445\n",
      "(445, 200)\n"
     ]
    }
   ],
   "metadata": {}
  },
  {
   "cell_type": "markdown",
   "source": [
    "Now we are going to look at the labels. because our labels are text, so we will tokenize them, when training, labels are expected to be numpy arrays. So we will turn list of labels into numpy arrays like so:"
   ],
   "metadata": {}
  },
  {
   "cell_type": "code",
   "execution_count": 79,
   "source": [
    "print(set(labels))"
   ],
   "outputs": [
    {
     "output_type": "stream",
     "name": "stdout",
     "text": [
      "{'tech', 'business', 'politics', 'sport', 'entertainment'}\n"
     ]
    }
   ],
   "metadata": {}
  },
  {
   "cell_type": "code",
   "execution_count": 80,
   "source": [
    "label_tokenizer = Tokenizer()\r\n",
    "label_tokenizer.fit_on_texts(labels)\r\n",
    "\r\n",
    "training_label_seq = np.array(label_tokenizer.texts_to_sequences(train_labels))\r\n",
    "validation_label_seq = np.array(label_tokenizer.texts_to_sequences(validation_labels))"
   ],
   "outputs": [],
   "metadata": {}
  },
  {
   "cell_type": "code",
   "execution_count": 81,
   "source": [
    "print(training_label_seq[0])\r\n",
    "print(training_label_seq[1])\r\n",
    "print(training_label_seq[2])\r\n",
    "print(training_label_seq.shape)\r\n",
    "\r\n",
    "print(validation_label_seq[0])\r\n",
    "print(validation_label_seq[1])\r\n",
    "print(validation_label_seq[2])\r\n",
    "print(validation_label_seq.shape)"
   ],
   "outputs": [
    {
     "output_type": "stream",
     "name": "stdout",
     "text": [
      "[4]\n",
      "[2]\n",
      "[1]\n",
      "(1780, 1)\n",
      "[5]\n",
      "[4]\n",
      "[3]\n",
      "(445, 1)\n"
     ]
    }
   ],
   "metadata": {}
  },
  {
   "cell_type": "markdown",
   "source": [
    "Before training deep neural network, we want to explore what our original article and article after padding look like. Running the following code, we explore the 11th article, we can see that some words become \"OOV\", because they did not make to the top 5,000."
   ],
   "metadata": {}
  },
  {
   "cell_type": "code",
   "execution_count": 82,
   "source": [
    "reverse_word_index = dict([(value, key) for (key, value) in word_index.items()])\r\n",
    "\r\n",
    "def decode_article(text):\r\n",
    "    return ' '.join([reverse_word_index.get(i, '?') for i in text])\r\n",
    "print(decode_article(train_padded[10]))\r\n",
    "print('---')\r\n",
    "print(train_articles[10])"
   ],
   "outputs": [
    {
     "output_type": "stream",
     "name": "stdout",
     "text": [
      "berlin <OOV> anti nazi film german movie anti nazi <OOV> <OOV> drawn <OOV> <OOV> berlin film festival <OOV> <OOV> final days <OOV> final days member white rose movement <OOV> 21 arrested <OOV> brother hans <OOV> <OOV> <OOV> <OOV> <OOV> tyranny <OOV> <OOV> director marc <OOV> said feeling responsibility legacy <OOV> going ideas alive added film drew <OOV> <OOV> <OOV> <OOV> s trial <OOV> <OOV> <OOV> east germany s secret police discovery <OOV> film <OOV> worked closely <OOV> relatives including <OOV> s sisters ensure historical <OOV> film <OOV> members white rose <OOV> group started <OOV> anti nazi <OOV> summer <OOV> arrested dropped <OOV> munich university calling day <OOV> <OOV> <OOV> s regime film <OOV> days <OOV> s arrest intense trial saw <OOV> initially deny charges ended <OOV> appearance german films <OOV> prize festival south african film version <OOV> s <OOV> opera <OOV> shot <OOV> town <OOV> language <OOV> berlin festival film entitled u <OOV> <OOV> <OOV> <OOV> <OOV> story set performed 40 strong music theatre <OOV> debut film performance film south african feature 25 years second nominated golden bear award ? ? ? ? ? ? ? ? ? ? ? ? ? ? ? ? ? ? ? ? ?\n",
      "---\n",
      "berlin cheers anti-nazi film german movie anti-nazi resistance heroine drawn loud applause berlin film festival.  sophie scholl - final days portrays final days member white rose movement. scholl  21  arrested beheaded brother  hans  1943 distributing leaflets condemning  abhorrent tyranny  adolf hitler. director marc rothemund said:  feeling responsibility legacy scholls going.   ideas alive   added.  film drew transcripts gestapo interrogations scholl s trial preserved archive communist east germany s secret police. discovery inspiration film rothemund  worked closely surviving relatives  including scholl s sisters  ensure historical accuracy film. scholl members white rose resistance group started distributing anti-nazi leaflets summer 1942. arrested dropped leaflets munich university calling  day reckoning  adolf hitler s regime. film focuses days scholl s arrest intense trial saw scholl initially deny charges ended defiant appearance. german films vying prize festival.  south african film version bizet s tragic opera carmen shot cape town xhosa language premiered berlin festival. film entitled u-carmen ekhayelitsha carmen khayelitsha township story set. performed 40-strong music theatre troupe debut film performance. film south african feature 25 years second nominated golden bear award.\n"
     ]
    }
   ],
   "metadata": {}
  },
  {
   "cell_type": "markdown",
   "source": [
    "## Now we can implement LSTM. Here is my code that I build a tf.keras.Sequential model and start with an embedding layer. An embedding layer stores one vector per word. When called, it converts the sequences of word indices into sequences of vectors. After training, words with similar meanings often have the similar vectors.\r\n",
    "\r\n",
    "## Next is how to implement LSTM in code. The Bidirectional wrapper is used with a LSTM layer, this propagates the input forwards and backwards through the LSTM layer and then concatenates the outputs. This helps LSTM to learn long term dependencies. We then fit it to a dense neural network to do classification.\r\n",
    "\r\n",
    "## This index-lookup is much more efficient than the equivalent operation of passing a one-hot encoded vector through a tf.keras.layers.Dense layer."
   ],
   "metadata": {}
  },
  {
   "cell_type": "code",
   "execution_count": 83,
   "source": [
    "model = tf.keras.Sequential([\r\n",
    "    # Add an Embedding layer expecting input vocab of size 5000, and output embedding dimension of size 64 we set at the top\r\n",
    "    tf.keras.layers.Embedding(vocab_size, embedding_dim),\r\n",
    "    tf.keras.layers.Bidirectional(tf.keras.layers.LSTM(embedding_dim)),\r\n",
    "#    tf.keras.layers.Bidirectional(tf.keras.layers.LSTM(32)),\r\n",
    "    # use ReLU in place of tanh function since they are very good alternatives of each other.\r\n",
    "    tf.keras.layers.Dense(embedding_dim, activation='relu'),\r\n",
    "    # Add a Dense layer with 6 units and softmax activation.\r\n",
    "    # When we have multiple outputs, softmax convert outputs layers into a probability distribution.\r\n",
    "    tf.keras.layers.Dense(6, activation='softmax')\r\n",
    "])\r\n",
    "model.summary()"
   ],
   "outputs": [
    {
     "output_type": "stream",
     "name": "stdout",
     "text": [
      "Model: \"sequential_2\"\n",
      "_________________________________________________________________\n",
      "Layer (type)                 Output Shape              Param #   \n",
      "=================================================================\n",
      "embedding_2 (Embedding)      (None, None, 64)          320000    \n",
      "_________________________________________________________________\n",
      "bidirectional_2 (Bidirection (None, 128)               66048     \n",
      "_________________________________________________________________\n",
      "dense_4 (Dense)              (None, 64)                8256      \n",
      "_________________________________________________________________\n",
      "dense_5 (Dense)              (None, 6)                 390       \n",
      "=================================================================\n",
      "Total params: 394,694\n",
      "Trainable params: 394,694\n",
      "Non-trainable params: 0\n",
      "_________________________________________________________________\n"
     ]
    }
   ],
   "metadata": {}
  },
  {
   "cell_type": "markdown",
   "source": [
    "In our model summay, we have our embeddings, our Bidirectional contains LSTM, followed by two dense layers. The output from Bidirectional is 128, because it doubled what we put in LSTM. We can also stack LSTM layer but I found the results worse."
   ],
   "metadata": {}
  },
  {
   "cell_type": "code",
   "execution_count": 84,
   "source": [
    "model.compile(loss='sparse_categorical_crossentropy', optimizer='adam', metrics=['accuracy'])"
   ],
   "outputs": [],
   "metadata": {}
  },
  {
   "cell_type": "code",
   "execution_count": 90,
   "source": [
    "num_epochs = 15\r\n",
    "history = model.fit(train_padded, training_label_seq, epochs=num_epochs, \\\r\n",
    "    validation_data=(validation_padded, validation_label_seq), verbose=2)"
   ],
   "outputs": [
    {
     "output_type": "stream",
     "name": "stdout",
     "text": [
      "Epoch 1/15\n",
      "56/56 - 7s - loss: 0.0520 - accuracy: 0.9854 - val_loss: 0.3357 - val_accuracy: 0.9124\n",
      "Epoch 2/15\n",
      "56/56 - 11s - loss: 0.0152 - accuracy: 0.9983 - val_loss: 0.3221 - val_accuracy: 0.9213\n",
      "Epoch 3/15\n",
      "56/56 - 11s - loss: 0.0286 - accuracy: 0.9933 - val_loss: 0.2670 - val_accuracy: 0.9303\n",
      "Epoch 4/15\n",
      "56/56 - 10s - loss: 0.0107 - accuracy: 1.0000 - val_loss: 0.2266 - val_accuracy: 0.9393\n",
      "Epoch 5/15\n",
      "56/56 - 10s - loss: 0.0031 - accuracy: 1.0000 - val_loss: 0.2361 - val_accuracy: 0.9461\n",
      "Epoch 6/15\n",
      "56/56 - 10s - loss: 0.0018 - accuracy: 1.0000 - val_loss: 0.2462 - val_accuracy: 0.9438\n",
      "Epoch 7/15\n",
      "56/56 - 10s - loss: 0.0012 - accuracy: 1.0000 - val_loss: 0.2569 - val_accuracy: 0.9416\n",
      "Epoch 8/15\n",
      "56/56 - 10s - loss: 9.5337e-04 - accuracy: 1.0000 - val_loss: 0.2677 - val_accuracy: 0.9416\n",
      "Epoch 9/15\n",
      "56/56 - 10s - loss: 7.5680e-04 - accuracy: 1.0000 - val_loss: 0.2770 - val_accuracy: 0.9438\n",
      "Epoch 10/15\n",
      "56/56 - 9s - loss: 6.2095e-04 - accuracy: 1.0000 - val_loss: 0.2841 - val_accuracy: 0.9438\n",
      "Epoch 11/15\n",
      "56/56 - 9s - loss: 5.2073e-04 - accuracy: 1.0000 - val_loss: 0.2906 - val_accuracy: 0.9438\n",
      "Epoch 12/15\n",
      "56/56 - 9s - loss: 4.4454e-04 - accuracy: 1.0000 - val_loss: 0.2967 - val_accuracy: 0.9416\n",
      "Epoch 13/15\n",
      "56/56 - 9s - loss: 3.8515e-04 - accuracy: 1.0000 - val_loss: 0.3013 - val_accuracy: 0.9416\n",
      "Epoch 14/15\n",
      "56/56 - 10s - loss: 3.3743e-04 - accuracy: 1.0000 - val_loss: 0.3070 - val_accuracy: 0.9416\n",
      "Epoch 15/15\n",
      "56/56 - 10s - loss: 2.9883e-04 - accuracy: 1.0000 - val_loss: 0.3105 - val_accuracy: 0.9393\n"
     ]
    }
   ],
   "metadata": {}
  },
  {
   "cell_type": "code",
   "execution_count": 91,
   "source": [
    "import matplotlib.pyplot as plt\r\n",
    "\r\n",
    "def plot_graphs(history, string):\r\n",
    "  plt.plot(history.history[string])\r\n",
    "  plt.plot(history.history['val_'+string])\r\n",
    "  plt.xlabel(\"Epochs\")\r\n",
    "  plt.ylabel(string)\r\n",
    "  plt.legend([string, 'val_'+string])\r\n",
    "  plt.show()\r\n",
    "  \r\n",
    "plot_graphs(history, \"accuracy\")\r\n",
    "plot_graphs(history, \"loss\")"
   ],
   "outputs": [
    {
     "output_type": "display_data",
     "data": {
      "image/png": "[encoded data removed]",
      "text/plain": [
       "<Figure size 432x288 with 1 Axes>"
      ]
     },
     "metadata": {
      "needs_background": "light"
     }
    },
    {
     "output_type": "display_data",
     "data": {
      "image/png": "[encoded data removed]",
      "text/plain": [
       "<Figure size 432x288 with 1 Axes>"
      ]
     },
     "metadata": {
      "needs_background": "light"
     }
    }
   ],
   "metadata": {}
  },
  {
   "cell_type": "code",
   "execution_count": 92,
   "source": [
    "txt = [\"A WeWork shareholder has taken the company to court over the near-$1.7bn (£1.3bn) leaving package approved for ousted co-founder Adam Neumann.\"]\r\n",
    "seq = tokenizer.texts_to_sequences(txt)\r\n",
    "padded = pad_sequences(seq, maxlen=max_length)\r\n",
    "pred = model.predict(padded)\r\n",
    "labels = ['sport', 'bussiness', 'politics', 'tech', 'entertainment']\r\n",
    "print(pred)\r\n",
    "# print(pred, labels[np.argmax(pred)])"
   ],
   "outputs": [
    {
     "output_type": "stream",
     "name": "stdout",
     "text": [
      "[[4.1098036e-09 1.2237208e-09 1.7163440e-04 8.1886822e-07 9.9845636e-01\n",
      "  1.3711412e-03]]\n"
     ]
    }
   ],
   "metadata": {}
  },
  {
   "cell_type": "code",
   "execution_count": 93,
   "source": [
    "np.argmax(pred)"
   ],
   "outputs": [
    {
     "output_type": "execute_result",
     "data": {
      "text/plain": [
       "4"
      ]
     },
     "metadata": {},
     "execution_count": 93
    }
   ],
   "metadata": {}
  },
  {
   "cell_type": "code",
   "execution_count": 94,
   "source": [
    "labels[np.argmax(pred)]"
   ],
   "outputs": [
    {
     "output_type": "execute_result",
     "data": {
      "text/plain": [
       "'entertainment'"
      ]
     },
     "metadata": {},
     "execution_count": 94
    }
   ],
   "metadata": {}
  },
  {
   "cell_type": "code",
   "execution_count": null,
   "source": [],
   "outputs": [],
   "metadata": {}
  }
 ],
 "metadata": {
  "orig_nbformat": 4,
  "language_info": {
   "name": "python",
   "version": "3.9.5",
   "mimetype": "text/x-python",
   "codemirror_mode": {
    "name": "ipython",
    "version": 3
   },
   "pygments_lexer": "ipython3",
   "nbconvert_exporter": "python",
   "file_extension": ".py"
  },
  "kernelspec": {
   "name": "python3",
   "display_name": "Python 3.9.5 64-bit ('venv_nlp': venv)"
  },
  "interpreter": {
   "hash": "db31e550d07d6bf6a080c4d9ba761362806b940c68d8be45a7233650890883fa"
  }
 },
 "nbformat": 4,
 "nbformat_minor": 2
}