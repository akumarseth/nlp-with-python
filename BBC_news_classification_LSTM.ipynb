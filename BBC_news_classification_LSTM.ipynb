{
 "cells": [
  {
   "cell_type": "code",
   "execution_count": 3,
   "source": [
    "import tensorflow as tf\r\n",
    "print(tf.__version__)"
   ],
   "outputs": [
    {
     "output_type": "stream",
     "name": "stdout",
     "text": [
      "2.6.0\n"
     ]
    }
   ],
   "metadata": {}
  },
  {
   "cell_type": "code",
   "execution_count": 4,
   "source": [
    "\r\n",
    "import csv\r\n",
    "import tensorflow as tf\r\n",
    "import numpy as np\r\n",
    "from tensorflow.keras.preprocessing.text import Tokenizer\r\n",
    "from tensorflow.keras.preprocessing.sequence import pad_sequences\r\n",
    "from spacy.lang.en.stop_words import STOP_WORDS"
   ],
   "outputs": [],
   "metadata": {}
  },
  {
   "cell_type": "markdown",
   "source": [
    "##### Put the hyparameters at the top like this to make it easier to change and edit."
   ],
   "metadata": {}
  },
  {
   "cell_type": "code",
   "execution_count": 5,
   "source": [
    "vocab_size = 5000\r\n",
    "embedding_dim = 64\r\n",
    "max_length = 200\r\n",
    "trunc_type = 'post'\r\n",
    "padding_type = 'post'\r\n",
    "oov_tok = '<OOV>'\r\n",
    "training_portion = .8"
   ],
   "outputs": [],
   "metadata": {}
  },
  {
   "cell_type": "markdown",
   "source": [
    "#### First, let's define two lists that containing articles and labels. In the meantime, we remove stopwords."
   ],
   "metadata": {}
  },
  {
   "cell_type": "code",
   "execution_count": 6,
   "source": [
    "articles = []\r\n",
    "labels = []\r\n",
    "\r\n",
    "with open(\"data/bbc-news.csv\", 'r') as csvfile:\r\n",
    "    reader = csv.reader(csvfile, delimiter=',')\r\n",
    "    next(reader)\r\n",
    "    for row in reader:\r\n",
    "        labels.append(row[0])\r\n",
    "        article = row[1]\r\n",
    "        for word in STOP_WORDS:\r\n",
    "            token = ' ' + word + ' '\r\n",
    "            article = article.replace(token, ' ')\r\n",
    "            article = article.replace(' ', ' ')\r\n",
    "        articles.append(article)\r\n",
    "print(len(labels))\r\n",
    "print(len(articles))"
   ],
   "outputs": [
    {
     "output_type": "stream",
     "name": "stdout",
     "text": [
      "2225\n",
      "2225\n"
     ]
    }
   ],
   "metadata": {}
  },
  {
   "cell_type": "code",
   "execution_count": 7,
   "source": [
    "set(labels)"
   ],
   "outputs": [
    {
     "output_type": "execute_result",
     "data": {
      "text/plain": [
       "{'business', 'entertainment', 'politics', 'sport', 'tech'}"
      ]
     },
     "metadata": {},
     "execution_count": 7
    }
   ],
   "metadata": {}
  },
  {
   "cell_type": "markdown",
   "source": [
    "#### There are only 2,225 articles in the data. Then we split into training set and validation set, according to the parameter we set earlier, 80% for training, 20% for validation."
   ],
   "metadata": {}
  },
  {
   "cell_type": "code",
   "execution_count": 8,
   "source": [
    "train_size = int(len(articles) * training_portion)\r\n",
    "\r\n",
    "train_articles = articles[0: train_size]\r\n",
    "train_labels = labels[0: train_size]\r\n",
    "\r\n",
    "validation_articles = articles[train_size:]\r\n",
    "validation_labels = labels[train_size:]\r\n",
    "\r\n",
    "print(train_size)\r\n",
    "print(len(train_articles))\r\n",
    "print(len(train_labels))\r\n",
    "print(len(validation_articles))\r\n",
    "print(len(validation_labels))"
   ],
   "outputs": [
    {
     "output_type": "stream",
     "name": "stdout",
     "text": [
      "1780\n",
      "1780\n",
      "1780\n",
      "445\n",
      "445\n"
     ]
    }
   ],
   "metadata": {}
  },
  {
   "cell_type": "markdown",
   "source": [
    "Tokenizer does all the heavy lifting for us. In our articles that it was tokenizing, it will take 5,000 most common words. oov_token is to put a special value in when an unseen word is encountered. This means I want \"OOV\" in bracket to be used to for words that are not in the word index. \"fit_on_text\" will go through all the text and create dictionary like this:"
   ],
   "metadata": {}
  },
  {
   "cell_type": "code",
   "execution_count": 9,
   "source": [
    "tokenizer = Tokenizer(num_words = vocab_size, oov_token=oov_tok)\r\n",
    "tokenizer.fit_on_texts(train_articles)\r\n",
    "word_index = tokenizer.word_index"
   ],
   "outputs": [],
   "metadata": {}
  },
  {
   "cell_type": "markdown",
   "source": [
    "You can see that \"OOV\" in bracket is number 1, \"said\" is number 2, \"mr\" is number 3, and so on."
   ],
   "metadata": {}
  },
  {
   "cell_type": "code",
   "execution_count": 10,
   "source": [
    "dict(list(word_index.items())[0:10])"
   ],
   "outputs": [
    {
     "output_type": "execute_result",
     "data": {
      "text/plain": [
       "{'<OOV>': 1,\n",
       " 's': 2,\n",
       " 'said': 3,\n",
       " 'mr': 4,\n",
       " 'year': 5,\n",
       " 'people': 6,\n",
       " 'new': 7,\n",
       " 't': 8,\n",
       " 'time': 9,\n",
       " 'government': 10}"
      ]
     },
     "metadata": {},
     "execution_count": 10
    }
   ],
   "metadata": {}
  },
  {
   "cell_type": "markdown",
   "source": [
    "This process cleans up our text, lowercase, and remove punctuations.\r\n",
    "\r\n",
    "After tokenization, the next step is to turn thoes tokens into lists of sequence."
   ],
   "metadata": {}
  },
  {
   "cell_type": "code",
   "execution_count": 11,
   "source": [
    "train_sequences = tokenizer.texts_to_sequences(train_articles)"
   ],
   "outputs": [],
   "metadata": {}
  },
  {
   "cell_type": "markdown",
   "source": [
    "This is the 11th article in the training data that has been turned into sequences."
   ],
   "metadata": {}
  },
  {
   "cell_type": "code",
   "execution_count": 12,
   "source": [
    "print(train_sequences[10])"
   ],
   "outputs": [
    {
     "output_type": "stream",
     "name": "stdout",
     "text": [
      "[2354, 1, 184, 4925, 15, 575, 522, 184, 4925, 1, 1, 1578, 1, 1, 2354, 15, 502, 1, 1, 109, 233, 1, 109, 233, 721, 747, 594, 2230, 1, 1061, 1610, 1, 1637, 4926, 1, 1, 1, 1, 1, 4668, 1, 1, 91, 4444, 1, 3, 2795, 1420, 4669, 1, 36, 2092, 3886, 26, 15, 3718, 1, 1, 1, 1, 2, 480, 1, 1, 1, 760, 565, 2, 2288, 295, 4670, 1, 15, 1, 713, 2289, 1, 4229, 107, 1, 2, 3583, 612, 3450, 1, 15, 1, 356, 747, 594, 1, 64, 567, 1, 184, 4925, 1, 534, 1, 1610, 939, 1, 4927, 732, 1782, 87, 1, 1, 1, 2, 2895, 15, 1, 233, 1, 2, 1522, 4928, 480, 433, 1, 1360, 4671, 704, 1239, 1, 1778, 575, 273, 1, 417, 502, 255, 1421, 15, 418, 1, 2, 1, 1582, 1, 722, 1, 2988, 1, 1282, 1, 2354, 502, 15, 2892, 4665, 1, 1, 1, 1, 1, 775, 24, 1743, 606, 251, 17, 899, 1, 806, 15, 307, 15, 255, 1421, 1260, 318, 14, 42, 807, 1013, 4230, 205]\n"
     ]
    }
   ],
   "metadata": {}
  },
  {
   "cell_type": "markdown",
   "source": [
    "When we train neural networks for NLP, we need sequences to be in the same size, that's why we use padding. Our max_length is 200, so we use pad_sequences to make all of our articles the same length which is 200 in my example. That's why you see that the 1st article was 426 in length, becomes 200, the 2nd article was 192 in length, becomes 200, and so on"
   ],
   "metadata": {}
  },
  {
   "cell_type": "code",
   "execution_count": 13,
   "source": [
    "train_padded = pad_sequences(train_sequences, maxlen=max_length, padding=padding_type, truncating=trunc_type)"
   ],
   "outputs": [],
   "metadata": {}
  },
  {
   "cell_type": "code",
   "execution_count": 14,
   "source": [
    "print(len(train_sequences[0]))\r\n",
    "print(len(train_padded[0]))\r\n",
    "\r\n",
    "print(len(train_sequences[1]))\r\n",
    "print(len(train_padded[1]))\r\n",
    "\r\n",
    "print(len(train_sequences[10]))\r\n",
    "print(len(train_padded[10]))"
   ],
   "outputs": [
    {
     "output_type": "stream",
     "name": "stdout",
     "text": [
      "387\n",
      "200\n",
      "178\n",
      "200\n",
      "179\n",
      "200\n"
     ]
    }
   ],
   "metadata": {}
  },
  {
   "cell_type": "markdown",
   "source": [
    "In addtion, there is padding type and truncating type, there are all \"post\". Means for example, for the 11th article, it was 186 in length, we padded to 200, and we padded at the end, add 14 zeros."
   ],
   "metadata": {}
  },
  {
   "cell_type": "code",
   "execution_count": 15,
   "source": [
    "print(train_sequences[10])"
   ],
   "outputs": [
    {
     "output_type": "stream",
     "name": "stdout",
     "text": [
      "[2354, 1, 184, 4925, 15, 575, 522, 184, 4925, 1, 1, 1578, 1, 1, 2354, 15, 502, 1, 1, 109, 233, 1, 109, 233, 721, 747, 594, 2230, 1, 1061, 1610, 1, 1637, 4926, 1, 1, 1, 1, 1, 4668, 1, 1, 91, 4444, 1, 3, 2795, 1420, 4669, 1, 36, 2092, 3886, 26, 15, 3718, 1, 1, 1, 1, 2, 480, 1, 1, 1, 760, 565, 2, 2288, 295, 4670, 1, 15, 1, 713, 2289, 1, 4229, 107, 1, 2, 3583, 612, 3450, 1, 15, 1, 356, 747, 594, 1, 64, 567, 1, 184, 4925, 1, 534, 1, 1610, 939, 1, 4927, 732, 1782, 87, 1, 1, 1, 2, 2895, 15, 1, 233, 1, 2, 1522, 4928, 480, 433, 1, 1360, 4671, 704, 1239, 1, 1778, 575, 273, 1, 417, 502, 255, 1421, 15, 418, 1, 2, 1, 1582, 1, 722, 1, 2988, 1, 1282, 1, 2354, 502, 15, 2892, 4665, 1, 1, 1, 1, 1, 775, 24, 1743, 606, 251, 17, 899, 1, 806, 15, 307, 15, 255, 1421, 1260, 318, 14, 42, 807, 1013, 4230, 205]\n"
     ]
    }
   ],
   "metadata": {}
  },
  {
   "cell_type": "code",
   "execution_count": 16,
   "source": [
    "print(train_padded[10])"
   ],
   "outputs": [
    {
     "output_type": "stream",
     "name": "stdout",
     "text": [
      "[2354    1  184 4925   15  575  522  184 4925    1    1 1578    1    1\n",
      " 2354   15  502    1    1  109  233    1  109  233  721  747  594 2230\n",
      "    1 1061 1610    1 1637 4926    1    1    1    1    1 4668    1    1\n",
      "   91 4444    1    3 2795 1420 4669    1   36 2092 3886   26   15 3718\n",
      "    1    1    1    1    2  480    1    1    1  760  565    2 2288  295\n",
      " 4670    1   15    1  713 2289    1 4229  107    1    2 3583  612 3450\n",
      "    1   15    1  356  747  594    1   64  567    1  184 4925    1  534\n",
      "    1 1610  939    1 4927  732 1782   87    1    1    1    2 2895   15\n",
      "    1  233    1    2 1522 4928  480  433    1 1360 4671  704 1239    1\n",
      " 1778  575  273    1  417  502  255 1421   15  418    1    2    1 1582\n",
      "    1  722    1 2988    1 1282    1 2354  502   15 2892 4665    1    1\n",
      "    1    1    1  775   24 1743  606  251   17  899    1  806   15  307\n",
      "   15  255 1421 1260  318   14   42  807 1013 4230  205    0    0    0\n",
      "    0    0    0    0    0    0    0    0    0    0    0    0    0    0\n",
      "    0    0    0    0]\n"
     ]
    }
   ],
   "metadata": {}
  },
  {
   "cell_type": "markdown",
   "source": [
    "And for the 1st article, it was 426 in length, we truncated to 200, and we truncated at the end."
   ],
   "metadata": {}
  },
  {
   "cell_type": "code",
   "execution_count": 17,
   "source": [
    "print(train_sequences[0])"
   ],
   "outputs": [
    {
     "output_type": "stream",
     "name": "stdout",
     "text": [
      "[65, 124, 1058, 1023, 33, 899, 682, 1, 63, 1221, 4216, 98, 138, 3573, 1130, 1111, 1490, 27, 6, 817, 65, 1, 286, 14, 9, 99, 3184, 1131, 2344, 506, 392, 1294, 3298, 3440, 1576, 7, 843, 659, 769, 1, 533, 1491, 1024, 337, 1860, 1023, 33, 474, 1316, 1931, 1538, 103, 207, 83, 2277, 4909, 900, 519, 3882, 3705, 843, 2484, 98, 293, 138, 3573, 1, 1, 24, 1492, 2789, 19, 2, 4653, 12, 2, 1222, 105, 358, 6, 112, 1339, 49, 4432, 376, 4910, 65, 1024, 54, 1, 58, 1932, 1, 65, 926, 479, 63, 1221, 65, 1885, 100, 106, 362, 2790, 118, 1150, 63, 1221, 4654, 6, 376, 4910, 3076, 2414, 1, 372, 1043, 1, 1340, 1177, 1821, 1, 692, 474, 1316, 1931, 103, 1988, 342, 770, 1886, 1515, 1633, 2791, 1, 1, 2345, 2546, 58, 660, 1089, 1112, 118, 650, 526, 1, 93, 19, 1222, 1606, 373, 85, 14, 9, 12, 3077, 1, 23, 1400, 2, 1, 16, 23, 61, 287, 2278, 23, 407, 213, 1886, 1276, 2639, 1, 253, 660, 1090, 12, 2792, 1633, 1, 249, 1, 991, 337, 1933, 372, 1933, 3, 1277, 1, 1633, 2086, 47, 1, 1, 1634, 207, 1577, 2980, 1091, 337, 26, 802, 204, 2716, 294, 485, 342, 3, 1, 1, 587, 1278, 163, 65, 3883, 65, 64, 27, 6, 274, 337, 54, 817, 1, 65, 1023, 342, 474, 770, 2345, 1, 914, 2, 451, 423, 1989, 124, 507, 1, 97, 6, 274, 54, 817, 1132, 1043, 1380, 37, 2135, 1133, 670, 214, 230, 937, 49, 536, 2346, 1131, 2279, 1635, 1, 3706, 3441, 1, 1043, 1933, 140, 315, 54, 485, 1058, 4, 1, 965, 66, 2883, 1, 2547, 1, 381, 393, 3, 4, 1, 2793, 392, 1341, 28, 54, 370, 20, 7, 937, 843, 1, 2484, 1, 65, 1607, 803, 63, 1221, 65, 1885, 7, 1539, 1, 1, 4217, 1493, 4216, 588, 1, 3707, 926, 507, 4218, 2789, 804, 588, 1, 2, 1178, 1, 1, 65, 1467, 855, 4653, 1, 512, 4033, 2, 195, 1931, 65, 103, 1, 588, 3185, 1, 456, 604, 2548, 3707, 4911, 3299, 423, 4655, 24, 4432, 1, 65, 1665, 604, 225, 86, 199, 2549, 302, 578, 1134, 4034, 683, 3574, 4653, 114, 1, 342, 6, 49, 1666, 1024, 693, 833, 88, 519, 3300, 1235, 1491, 1, 1516, 6, 817, 54, 54]\n"
     ]
    }
   ],
   "metadata": {}
  },
  {
   "cell_type": "code",
   "execution_count": 18,
   "source": [
    "print(train_padded[0])"
   ],
   "outputs": [
    {
     "output_type": "stream",
     "name": "stdout",
     "text": [
      "[  65  124 1058 1023   33  899  682    1   63 1221 4216   98  138 3573\n",
      " 1130 1111 1490   27    6  817   65    1  286   14    9   99 3184 1131\n",
      " 2344  506  392 1294 3298 3440 1576    7  843  659  769    1  533 1491\n",
      " 1024  337 1860 1023   33  474 1316 1931 1538  103  207   83 2277 4909\n",
      "  900  519 3882 3705  843 2484   98  293  138 3573    1    1   24 1492\n",
      " 2789   19    2 4653   12    2 1222  105  358    6  112 1339   49 4432\n",
      "  376 4910   65 1024   54    1   58 1932    1   65  926  479   63 1221\n",
      "   65 1885  100  106  362 2790  118 1150   63 1221 4654    6  376 4910\n",
      " 3076 2414    1  372 1043    1 1340 1177 1821    1  692  474 1316 1931\n",
      "  103 1988  342  770 1886 1515 1633 2791    1    1 2345 2546   58  660\n",
      " 1089 1112  118  650  526    1   93   19 1222 1606  373   85   14    9\n",
      "   12 3077    1   23 1400    2    1   16   23   61  287 2278   23  407\n",
      "  213 1886 1276 2639    1  253  660 1090   12 2792 1633    1  249    1\n",
      "  991  337 1933  372 1933    3 1277    1 1633 2086   47    1    1 1634\n",
      "  207 1577 2980 1091]\n"
     ]
    }
   ],
   "metadata": {}
  },
  {
   "cell_type": "markdown",
   "source": [
    "Then we do the same for the validation sequences. Note that we should expect more out of vocabulary words from validation articles because word index were derived from the training articles."
   ],
   "metadata": {}
  },
  {
   "cell_type": "code",
   "execution_count": 19,
   "source": [
    "validation_sequences = tokenizer.texts_to_sequences(validation_articles)\r\n",
    "validation_padded = pad_sequences(validation_sequences, maxlen=max_length, padding=padding_type, truncating=trunc_type)\r\n",
    "\r\n",
    "print(len(validation_sequences))\r\n",
    "print(validation_padded.shape)"
   ],
   "outputs": [
    {
     "output_type": "stream",
     "name": "stdout",
     "text": [
      "445\n",
      "(445, 200)\n"
     ]
    }
   ],
   "metadata": {}
  },
  {
   "cell_type": "markdown",
   "source": [
    "Now we are going to look at the labels. because our labels are text, so we will tokenize them, when training, labels are expected to be numpy arrays. So we will turn list of labels into numpy arrays like so:"
   ],
   "metadata": {}
  },
  {
   "cell_type": "code",
   "execution_count": 20,
   "source": [
    "print(set(labels))"
   ],
   "outputs": [
    {
     "output_type": "stream",
     "name": "stdout",
     "text": [
      "{'sport', 'entertainment', 'business', 'tech', 'politics'}\n"
     ]
    }
   ],
   "metadata": {}
  },
  {
   "cell_type": "code",
   "execution_count": 21,
   "source": [
    "label_tokenizer = Tokenizer()\r\n",
    "label_tokenizer.fit_on_texts(labels)\r\n",
    "\r\n",
    "training_label_seq = np.array(label_tokenizer.texts_to_sequences(train_labels))\r\n",
    "validation_label_seq = np.array(label_tokenizer.texts_to_sequences(validation_labels))"
   ],
   "outputs": [],
   "metadata": {}
  },
  {
   "cell_type": "code",
   "execution_count": 22,
   "source": [
    "print(training_label_seq[0])\r\n",
    "print(training_label_seq[1])\r\n",
    "print(training_label_seq[2])\r\n",
    "print(training_label_seq.shape)\r\n",
    "\r\n",
    "print(validation_label_seq[0])\r\n",
    "print(validation_label_seq[1])\r\n",
    "print(validation_label_seq[2])\r\n",
    "print(validation_label_seq.shape)"
   ],
   "outputs": [
    {
     "output_type": "stream",
     "name": "stdout",
     "text": [
      "[4]\n",
      "[2]\n",
      "[1]\n",
      "(1780, 1)\n",
      "[5]\n",
      "[4]\n",
      "[3]\n",
      "(445, 1)\n"
     ]
    }
   ],
   "metadata": {}
  },
  {
   "cell_type": "markdown",
   "source": [
    "Before training deep neural network, we want to explore what our original article and article after padding look like. Running the following code, we explore the 11th article, we can see that some words become \"OOV\", because they did not make to the top 5,000."
   ],
   "metadata": {}
  },
  {
   "cell_type": "code",
   "execution_count": 23,
   "source": [
    "reverse_word_index = dict([(value, key) for (key, value) in word_index.items()])\r\n",
    "\r\n",
    "def decode_article(text):\r\n",
    "    return ' '.join([reverse_word_index.get(i, '?') for i in text])\r\n",
    "print(decode_article(train_padded[10]))\r\n",
    "print('---')\r\n",
    "print(train_articles[10])"
   ],
   "outputs": [
    {
     "output_type": "stream",
     "name": "stdout",
     "text": [
      "berlin <OOV> anti nazi film german movie anti nazi <OOV> <OOV> drawn <OOV> <OOV> berlin film festival <OOV> <OOV> final days <OOV> final days member white rose movement <OOV> 21 arrested <OOV> brother hans <OOV> <OOV> <OOV> <OOV> <OOV> tyranny <OOV> <OOV> director marc <OOV> said feeling responsibility legacy <OOV> going ideas alive added film drew <OOV> <OOV> <OOV> <OOV> s trial <OOV> <OOV> <OOV> east germany s secret police discovery <OOV> film <OOV> worked closely <OOV> relatives including <OOV> s sisters ensure historical <OOV> film <OOV> members white rose <OOV> group started <OOV> anti nazi <OOV> summer <OOV> arrested dropped <OOV> munich university calling day <OOV> <OOV> <OOV> s regime film <OOV> days <OOV> s arrest intense trial saw <OOV> initially deny charges ended <OOV> appearance german films <OOV> prize festival south african film version <OOV> s <OOV> opera <OOV> shot <OOV> town <OOV> language <OOV> berlin festival film entitled u <OOV> <OOV> <OOV> <OOV> <OOV> story set performed 40 strong music theatre <OOV> debut film performance film south african feature 25 years second nominated golden bear award ? ? ? ? ? ? ? ? ? ? ? ? ? ? ? ? ? ? ? ? ?\n",
      "---\n",
      "berlin cheers anti-nazi film german movie anti-nazi resistance heroine drawn loud applause berlin film festival.  sophie scholl - final days portrays final days member white rose movement. scholl  21  arrested beheaded brother  hans  1943 distributing leaflets condemning  abhorrent tyranny  adolf hitler. director marc rothemund said:  feeling responsibility legacy scholls going.   ideas alive   added.  film drew transcripts gestapo interrogations scholl s trial preserved archive communist east germany s secret police. discovery inspiration film rothemund  worked closely surviving relatives  including scholl s sisters  ensure historical accuracy film. scholl members white rose resistance group started distributing anti-nazi leaflets summer 1942. arrested dropped leaflets munich university calling  day reckoning  adolf hitler s regime. film focuses days scholl s arrest intense trial saw scholl initially deny charges ended defiant appearance. german films vying prize festival.  south african film version bizet s tragic opera carmen shot cape town xhosa language premiered berlin festival. film entitled u-carmen ekhayelitsha carmen khayelitsha township story set. performed 40-strong music theatre troupe debut film performance. film south african feature 25 years second nominated golden bear award.\n"
     ]
    }
   ],
   "metadata": {}
  },
  {
   "cell_type": "markdown",
   "source": [
    "## Now we can implement LSTM. Here is my code that I build a tf.keras.Sequential model and start with an embedding layer. An embedding layer stores one vector per word. When called, it converts the sequences of word indices into sequences of vectors. After training, words with similar meanings often have the similar vectors.\r\n",
    "\r\n",
    "## Next is how to implement LSTM in code. The Bidirectional wrapper is used with a LSTM layer, this propagates the input forwards and backwards through the LSTM layer and then concatenates the outputs. This helps LSTM to learn long term dependencies. We then fit it to a dense neural network to do classification.\r\n",
    "\r\n",
    "## This index-lookup is much more efficient than the equivalent operation of passing a one-hot encoded vector through a tf.keras.layers.Dense layer."
   ],
   "metadata": {}
  },
  {
   "cell_type": "code",
   "execution_count": 24,
   "source": [
    "model = tf.keras.Sequential([\r\n",
    "    # Add an Embedding layer expecting input vocab of size 5000, and output embedding dimension of size 64 we set at the top\r\n",
    "    tf.keras.layers.Embedding(vocab_size, embedding_dim),\r\n",
    "    tf.keras.layers.Bidirectional(tf.keras.layers.LSTM(embedding_dim)),\r\n",
    "#    tf.keras.layers.Bidirectional(tf.keras.layers.LSTM(32)),\r\n",
    "    # use ReLU in place of tanh function since they are very good alternatives of each other.\r\n",
    "    tf.keras.layers.Dense(embedding_dim, activation='relu'),\r\n",
    "    # Add a Dense layer with 6 units and softmax activation.\r\n",
    "    # When we have multiple outputs, softmax convert outputs layers into a probability distribution.\r\n",
    "    tf.keras.layers.Dense(6, activation='softmax')\r\n",
    "])\r\n",
    "model.summary()"
   ],
   "outputs": [
    {
     "output_type": "stream",
     "name": "stdout",
     "text": [
      "Model: \"sequential\"\n",
      "_________________________________________________________________\n",
      "Layer (type)                 Output Shape              Param #   \n",
      "=================================================================\n",
      "embedding (Embedding)        (None, None, 64)          320000    \n",
      "_________________________________________________________________\n",
      "bidirectional (Bidirectional (None, 128)               66048     \n",
      "_________________________________________________________________\n",
      "dense (Dense)                (None, 64)                8256      \n",
      "_________________________________________________________________\n",
      "dense_1 (Dense)              (None, 6)                 390       \n",
      "=================================================================\n",
      "Total params: 394,694\n",
      "Trainable params: 394,694\n",
      "Non-trainable params: 0\n",
      "_________________________________________________________________\n"
     ]
    }
   ],
   "metadata": {}
  },
  {
   "cell_type": "markdown",
   "source": [
    "In our model summay, we have our embeddings, our Bidirectional contains LSTM, followed by two dense layers. The output from Bidirectional is 128, because it doubled what we put in LSTM. We can also stack LSTM layer but I found the results worse."
   ],
   "metadata": {}
  },
  {
   "cell_type": "code",
   "execution_count": 25,
   "source": [
    "model.compile(loss='sparse_categorical_crossentropy', optimizer='adam', metrics=['accuracy'])"
   ],
   "outputs": [],
   "metadata": {}
  },
  {
   "cell_type": "code",
   "execution_count": 26,
   "source": [
    "num_epochs = 15\r\n",
    "history = model.fit(train_padded, training_label_seq, epochs=num_epochs, \\\r\n",
    "    validation_data=(validation_padded, validation_label_seq), verbose=2)"
   ],
   "outputs": [
    {
     "output_type": "stream",
     "name": "stdout",
     "text": [
      "Epoch 1/15\n",
      "56/56 - 8s - loss: 1.5878 - accuracy: 0.3096 - val_loss: 1.2969 - val_accuracy: 0.4090\n",
      "Epoch 2/15\n",
      "56/56 - 5s - loss: 0.7449 - accuracy: 0.7393 - val_loss: 0.5297 - val_accuracy: 0.8180\n",
      "Epoch 3/15\n",
      "56/56 - 5s - loss: 0.2783 - accuracy: 0.9124 - val_loss: 0.4048 - val_accuracy: 0.8517\n",
      "Epoch 4/15\n",
      "56/56 - 5s - loss: 0.1491 - accuracy: 0.9472 - val_loss: 0.3151 - val_accuracy: 0.8899\n",
      "Epoch 5/15\n",
      "56/56 - 5s - loss: 0.0437 - accuracy: 0.9927 - val_loss: 0.4069 - val_accuracy: 0.8876\n",
      "Epoch 6/15\n",
      "56/56 - 5s - loss: 0.0352 - accuracy: 0.9904 - val_loss: 0.3108 - val_accuracy: 0.9191\n",
      "Epoch 7/15\n",
      "56/56 - 6s - loss: 0.0066 - accuracy: 0.9983 - val_loss: 0.3301 - val_accuracy: 0.9056\n",
      "Epoch 8/15\n",
      "56/56 - 6s - loss: 0.0030 - accuracy: 1.0000 - val_loss: 0.3176 - val_accuracy: 0.9236\n",
      "Epoch 9/15\n",
      "56/56 - 6s - loss: 0.0019 - accuracy: 1.0000 - val_loss: 0.3334 - val_accuracy: 0.9236\n",
      "Epoch 10/15\n",
      "56/56 - 6s - loss: 0.0023 - accuracy: 0.9994 - val_loss: 0.3330 - val_accuracy: 0.9191\n",
      "Epoch 11/15\n",
      "56/56 - 7s - loss: 0.0010 - accuracy: 1.0000 - val_loss: 0.3287 - val_accuracy: 0.9281\n",
      "Epoch 12/15\n",
      "56/56 - 7s - loss: 7.0432e-04 - accuracy: 1.0000 - val_loss: 0.3405 - val_accuracy: 0.9281\n",
      "Epoch 13/15\n",
      "56/56 - 7s - loss: 5.1355e-04 - accuracy: 1.0000 - val_loss: 0.3554 - val_accuracy: 0.9303\n",
      "Epoch 14/15\n",
      "56/56 - 7s - loss: 3.9439e-04 - accuracy: 1.0000 - val_loss: 0.3626 - val_accuracy: 0.9258\n",
      "Epoch 15/15\n",
      "56/56 - 7s - loss: 3.1777e-04 - accuracy: 1.0000 - val_loss: 0.3785 - val_accuracy: 0.9258\n"
     ]
    }
   ],
   "metadata": {}
  },
  {
   "cell_type": "code",
   "execution_count": 27,
   "source": [
    "import matplotlib.pyplot as plt\r\n",
    "\r\n",
    "def plot_graphs(history, string):\r\n",
    "  plt.plot(history.history[string])\r\n",
    "  plt.plot(history.history['val_'+string])\r\n",
    "  plt.xlabel(\"Epochs\")\r\n",
    "  plt.ylabel(string)\r\n",
    "  plt.legend([string, 'val_'+string])\r\n",
    "  plt.show()\r\n",
    "  \r\n",
    "plot_graphs(history, \"accuracy\")\r\n",
    "plot_graphs(history, \"loss\")"
   ],
   "outputs": [
    {
     "output_type": "display_data",
     "data": {
      "image/png": "[encoded data removed]",
      "text/plain": [
       "<Figure size 432x288 with 1 Axes>"
      ]
     },
     "metadata": {
      "needs_background": "light"
     }
    },
    {
     "output_type": "display_data",
     "data": {
      "image/png": "[encoded data removed]",
      "text/plain": [
       "<Figure size 432x288 with 1 Axes>"
      ]
     },
     "metadata": {
      "needs_background": "light"
     }
    }
   ],
   "metadata": {}
  },
  {
   "cell_type": "code",
   "execution_count": 30,
   "source": [
    "txt = [\"A WeWork shareholder has taken the company to court over the near-$1.7bn (£1.3bn) leaving package approved for ousted co-founder Adam Neumann.\"]\r\n",
    "seq = tokenizer.texts_to_sequences(txt)\r\n",
    "padded = pad_sequences(seq, maxlen=max_length)\r\n",
    "pred = model.predict(padded)\r\n",
    "labels = ['sport', 'bussiness', 'politics', 'tech', 'entertainment']\r\n",
    "print(pred, labels[np.argmax(pred)])"
   ],
   "outputs": [
    {
     "output_type": "stream",
     "name": "stdout",
     "text": [
      "[[1.0736343e-05 9.9201864e-01 3.0538886e-05 1.7210672e-05 6.4641476e-06\n",
      "  7.9163443e-03]] bussiness\n"
     ]
    }
   ],
   "metadata": {}
  },
  {
   "cell_type": "code",
   "execution_count": 31,
   "source": [
    "np.argmax(pred)"
   ],
   "outputs": [
    {
     "output_type": "execute_result",
     "data": {
      "text/plain": [
       "1"
      ]
     },
     "metadata": {},
     "execution_count": 31
    }
   ],
   "metadata": {}
  },
  {
   "cell_type": "code",
   "execution_count": 32,
   "source": [
    "labels[np.argmax(pred)]"
   ],
   "outputs": [
    {
     "output_type": "execute_result",
     "data": {
      "text/plain": [
       "'bussiness'"
      ]
     },
     "metadata": {},
     "execution_count": 32
    }
   ],
   "metadata": {}
  },
  {
   "cell_type": "markdown",
   "source": [
    "## Save model"
   ],
   "metadata": {}
  },
  {
   "cell_type": "code",
   "execution_count": 35,
   "source": [
    "import pickle\r\n",
    "# Save tokenizer\r\n",
    "pickle.dump(tokenizer, open(\"model/news_classification_model_LSTM_tokenizer\", \"wb\"))\r\n",
    "# Save the model\r\n",
    "model.save('model/news_classification_model_LSTM')"
   ],
   "outputs": [
    {
     "output_type": "stream",
     "name": "stderr",
     "text": [
      "WARNING:absl:Found untraced functions such as lstm_cell_4_layer_call_and_return_conditional_losses, lstm_cell_4_layer_call_fn, lstm_cell_5_layer_call_and_return_conditional_losses, lstm_cell_5_layer_call_fn, lstm_cell_4_layer_call_fn while saving (showing 5 of 10). These functions will not be directly callable after loading.\n"
     ]
    },
    {
     "output_type": "stream",
     "name": "stdout",
     "text": [
      "INFO:tensorflow:Assets written to: model/news_classification_model_LSTM\\assets\n"
     ]
    },
    {
     "output_type": "stream",
     "name": "stderr",
     "text": [
      "INFO:tensorflow:Assets written to: model/news_classification_model_LSTM\\assets\n"
     ]
    }
   ],
   "metadata": {}
  },
  {
   "cell_type": "markdown",
   "source": [
    "## Load saved model and predict"
   ],
   "metadata": {}
  },
  {
   "cell_type": "code",
   "execution_count": 3,
   "source": [
    "import tensorflow as tf\r\n",
    "import numpy as np\r\n",
    "from tensorflow.keras.preprocessing.text import Tokenizer\r\n",
    "from tensorflow.keras.preprocessing.sequence import pad_sequences\r\n",
    "from spacy.lang.en.stop_words import STOP_WORDS\r\n",
    "import pickle\r\n",
    "\r\n",
    "new_tokenizer = open(\"model/news_classification_model_LSTM_tokenizer\", \"rb\")\r\n",
    "tokenizer = pickle.load(new_tokenizer)\r\n",
    "\r\n",
    "new_model = tf.keras.models.load_model('model/news_classification_model_LSTM')\r\n",
    "\r\n",
    "# Check its architecture\r\n",
    "new_model.summary()"
   ],
   "outputs": [
    {
     "output_type": "stream",
     "name": "stdout",
     "text": [
      "Model: \"sequential\"\n",
      "_________________________________________________________________\n",
      "Layer (type)                 Output Shape              Param #   \n",
      "=================================================================\n",
      "embedding (Embedding)        (None, None, 64)          320000    \n",
      "_________________________________________________________________\n",
      "bidirectional (Bidirectional (None, 128)               66048     \n",
      "_________________________________________________________________\n",
      "dense (Dense)                (None, 64)                8256      \n",
      "_________________________________________________________________\n",
      "dense_1 (Dense)              (None, 6)                 390       \n",
      "=================================================================\n",
      "Total params: 394,694\n",
      "Trainable params: 394,694\n",
      "Non-trainable params: 0\n",
      "_________________________________________________________________\n"
     ]
    }
   ],
   "metadata": {}
  },
  {
   "cell_type": "code",
   "execution_count": 5,
   "source": [
    "max_length = 200\r\n",
    "\r\n",
    "txt = [\"A WeWork shareholder has taken the company to court over the near-$1.7bn (£1.3bn) leaving package approved for ousted co-founder Adam Neumann.\"]\r\n",
    "seq = tokenizer.texts_to_sequences(txt)\r\n",
    "padded = pad_sequences(seq, maxlen=max_length)\r\n",
    "pred = new_model.predict(padded)\r\n",
    "labels = ['sport', 'bussiness', 'politics', 'tech', 'entertainment']\r\n",
    "print(pred)"
   ],
   "outputs": [
    {
     "output_type": "stream",
     "name": "stdout",
     "text": [
      "[[1.0736343e-05 9.9201864e-01 3.0538886e-05 1.7210672e-05 6.4641476e-06\n",
      "  7.9163443e-03]]\n"
     ]
    }
   ],
   "metadata": {}
  },
  {
   "cell_type": "code",
   "execution_count": 6,
   "source": [
    "labels[np.argmax(pred)]"
   ],
   "outputs": [
    {
     "output_type": "execute_result",
     "data": {
      "text/plain": [
       "'bussiness'"
      ]
     },
     "metadata": {},
     "execution_count": 6
    }
   ],
   "metadata": {}
  },
  {
   "cell_type": "code",
   "execution_count": null,
   "source": [],
   "outputs": [],
   "metadata": {}
  }
 ],
 "metadata": {
  "orig_nbformat": 4,
  "language_info": {
   "name": "python",
   "version": "3.9.5",
   "mimetype": "text/x-python",
   "codemirror_mode": {
    "name": "ipython",
    "version": 3
   },
   "pygments_lexer": "ipython3",
   "nbconvert_exporter": "python",
   "file_extension": ".py"
  },
  "kernelspec": {
   "name": "python3",
   "display_name": "Python 3.9.5 64-bit ('venv_nlp': venv)"
  },
  "interpreter": {
   "hash": "db31e550d07d6bf6a080c4d9ba761362806b940c68d8be45a7233650890883fa"
  }
 },
 "nbformat": 4,
 "nbformat_minor": 2
}